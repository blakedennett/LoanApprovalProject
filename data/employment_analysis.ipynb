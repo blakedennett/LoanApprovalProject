{
 "cells": [
  {
   "cell_type": "code",
   "execution_count": 154,
   "metadata": {},
   "outputs": [],
   "source": [
    "import pandas as pd\n",
    "import os\n",
    "import numpy as np\n",
    "import plotly.express as px\n",
    "import plotly.io as pio\n",
    "import polars as pl"
   ]
  },
  {
   "cell_type": "code",
   "execution_count": 155,
   "metadata": {},
   "outputs": [],
   "source": [
    "data_file_path = os.getenv(\"EMPLOYMENT_DATA_PATH\")\n",
    "\n",
    "if data_file_path is not None:\n",
    "    df = pl.read_csv(data_file_path)\n",
    "else:\n",
    "    print(\"Environment variable EMPLOYMENT_DATA_PATH is not set.\")"
   ]
  },
  {
   "cell_type": "code",
   "execution_count": 156,
   "metadata": {},
   "outputs": [
    {
     "data": {
      "text/plain": [
       "824764"
      ]
     },
     "execution_count": 156,
     "metadata": {},
     "output_type": "execute_result"
    }
   ],
   "source": [
    "len(df)"
   ]
  },
  {
   "cell_type": "code",
   "execution_count": 157,
   "metadata": {},
   "outputs": [
    {
     "data": {
      "text/html": [
       "<div><style>\n",
       ".dataframe > thead > tr > th,\n",
       ".dataframe > tbody > tr > td {\n",
       "  text-align: right;\n",
       "  white-space: pre-wrap;\n",
       "}\n",
       "</style>\n",
       "<small>shape: (5, 25)</small><table border=\"1\" class=\"dataframe\"><thead><tr><th>fipstate</th><th>fipscty</th><th>naics</th><th>emp_nf</th><th>emp</th><th>qp1_nf</th><th>qp1</th><th>ap_nf</th><th>ap</th><th>est</th><th>n&lt;5</th><th>n5_9</th><th>n10_19</th><th>n20_49</th><th>n50_99</th><th>n100_249</th><th>n250_499</th><th>n500_999</th><th>n1000</th><th>n1000_1</th><th>n1000_2</th><th>n1000_3</th><th>n1000_4</th><th>censtate</th><th>cencty</th></tr><tr><td>i64</td><td>i64</td><td>str</td><td>str</td><td>i64</td><td>str</td><td>i64</td><td>str</td><td>i64</td><td>i64</td><td>str</td><td>str</td><td>str</td><td>str</td><td>str</td><td>str</td><td>str</td><td>str</td><td>str</td><td>str</td><td>str</td><td>str</td><td>str</td><td>i64</td><td>i64</td></tr></thead><tbody><tr><td>1</td><td>1</td><td>&quot;------&quot;</td><td>&quot;G&quot;</td><td>11510</td><td>&quot;G&quot;</td><td>99870</td><td>&quot;G&quot;</td><td>385755</td><td>867</td><td>&quot;412&quot;</td><td>&quot;200&quot;</td><td>&quot;112&quot;</td><td>&quot;92&quot;</td><td>&quot;38&quot;</td><td>&quot;10&quot;</td><td>&quot;N&quot;</td><td>&quot;N&quot;</td><td>&quot;N&quot;</td><td>&quot;N&quot;</td><td>&quot;N&quot;</td><td>&quot;N&quot;</td><td>&quot;N&quot;</td><td>63</td><td>1</td></tr><tr><td>1</td><td>1</td><td>&quot;11----&quot;</td><td>&quot;H&quot;</td><td>86</td><td>&quot;H&quot;</td><td>1206</td><td>&quot;H&quot;</td><td>4979</td><td>10</td><td>&quot;7&quot;</td><td>&quot;N&quot;</td><td>&quot;N&quot;</td><td>&quot;N&quot;</td><td>&quot;N&quot;</td><td>&quot;N&quot;</td><td>&quot;N&quot;</td><td>&quot;N&quot;</td><td>&quot;N&quot;</td><td>&quot;N&quot;</td><td>&quot;N&quot;</td><td>&quot;N&quot;</td><td>&quot;N&quot;</td><td>63</td><td>1</td></tr><tr><td>1</td><td>1</td><td>&quot;113///&quot;</td><td>&quot;G&quot;</td><td>73</td><td>&quot;H&quot;</td><td>1033</td><td>&quot;H&quot;</td><td>4210</td><td>7</td><td>&quot;5&quot;</td><td>&quot;N&quot;</td><td>&quot;N&quot;</td><td>&quot;N&quot;</td><td>&quot;N&quot;</td><td>&quot;N&quot;</td><td>&quot;N&quot;</td><td>&quot;N&quot;</td><td>&quot;N&quot;</td><td>&quot;N&quot;</td><td>&quot;N&quot;</td><td>&quot;N&quot;</td><td>&quot;N&quot;</td><td>63</td><td>1</td></tr><tr><td>1</td><td>1</td><td>&quot;22----&quot;</td><td>&quot;H&quot;</td><td>170</td><td>&quot;H&quot;</td><td>5050</td><td>&quot;H&quot;</td><td>19912</td><td>8</td><td>&quot;N&quot;</td><td>&quot;N&quot;</td><td>&quot;N&quot;</td><td>&quot;3&quot;</td><td>&quot;N&quot;</td><td>&quot;N&quot;</td><td>&quot;N&quot;</td><td>&quot;N&quot;</td><td>&quot;N&quot;</td><td>&quot;N&quot;</td><td>&quot;N&quot;</td><td>&quot;N&quot;</td><td>&quot;N&quot;</td><td>63</td><td>1</td></tr><tr><td>1</td><td>1</td><td>&quot;221///&quot;</td><td>&quot;H&quot;</td><td>170</td><td>&quot;H&quot;</td><td>5050</td><td>&quot;H&quot;</td><td>19912</td><td>8</td><td>&quot;N&quot;</td><td>&quot;N&quot;</td><td>&quot;N&quot;</td><td>&quot;3&quot;</td><td>&quot;N&quot;</td><td>&quot;N&quot;</td><td>&quot;N&quot;</td><td>&quot;N&quot;</td><td>&quot;N&quot;</td><td>&quot;N&quot;</td><td>&quot;N&quot;</td><td>&quot;N&quot;</td><td>&quot;N&quot;</td><td>63</td><td>1</td></tr></tbody></table></div>"
      ],
      "text/plain": [
       "shape: (5, 25)\n",
       "┌──────────┬─────────┬────────┬────────┬───┬─────────┬─────────┬──────────┬────────┐\n",
       "│ fipstate ┆ fipscty ┆ naics  ┆ emp_nf ┆ … ┆ n1000_3 ┆ n1000_4 ┆ censtate ┆ cencty │\n",
       "│ ---      ┆ ---     ┆ ---    ┆ ---    ┆   ┆ ---     ┆ ---     ┆ ---      ┆ ---    │\n",
       "│ i64      ┆ i64     ┆ str    ┆ str    ┆   ┆ str     ┆ str     ┆ i64      ┆ i64    │\n",
       "╞══════════╪═════════╪════════╪════════╪═══╪═════════╪═════════╪══════════╪════════╡\n",
       "│ 1        ┆ 1       ┆ ------ ┆ G      ┆ … ┆ N       ┆ N       ┆ 63       ┆ 1      │\n",
       "│ 1        ┆ 1       ┆ 11---- ┆ H      ┆ … ┆ N       ┆ N       ┆ 63       ┆ 1      │\n",
       "│ 1        ┆ 1       ┆ 113/// ┆ G      ┆ … ┆ N       ┆ N       ┆ 63       ┆ 1      │\n",
       "│ 1        ┆ 1       ┆ 22---- ┆ H      ┆ … ┆ N       ┆ N       ┆ 63       ┆ 1      │\n",
       "│ 1        ┆ 1       ┆ 221/// ┆ H      ┆ … ┆ N       ┆ N       ┆ 63       ┆ 1      │\n",
       "└──────────┴─────────┴────────┴────────┴───┴─────────┴─────────┴──────────┴────────┘"
      ]
     },
     "execution_count": 157,
     "metadata": {},
     "output_type": "execute_result"
    }
   ],
   "source": [
    "df.head()"
   ]
  },
  {
   "cell_type": "code",
   "execution_count": 158,
   "metadata": {},
   "outputs": [
    {
     "name": "stdout",
     "output_type": "stream",
     "text": [
      "False\n"
     ]
    }
   ],
   "source": [
    "expr_exists = '[\"N\"]' in df.to_pandas().values\n",
    "print(expr_exists)"
   ]
  },
  {
   "cell_type": "markdown",
   "metadata": {},
   "source": [
    "### Change to \"N\" values to official null"
   ]
  },
  {
   "cell_type": "code",
   "execution_count": 159,
   "metadata": {},
   "outputs": [
    {
     "data": {
      "text/html": [
       "<div><style>\n",
       ".dataframe > thead > tr > th,\n",
       ".dataframe > tbody > tr > td {\n",
       "  text-align: right;\n",
       "  white-space: pre-wrap;\n",
       "}\n",
       "</style>\n",
       "<small>shape: (3, 25)</small><table border=\"1\" class=\"dataframe\"><thead><tr><th>fipstate</th><th>fipscty</th><th>naics</th><th>emp_nf</th><th>emp</th><th>qp1_nf</th><th>qp1</th><th>ap_nf</th><th>ap</th><th>est</th><th>n&lt;5</th><th>n5_9</th><th>n10_19</th><th>n20_49</th><th>n50_99</th><th>n100_249</th><th>n250_499</th><th>n500_999</th><th>n1000</th><th>n1000_1</th><th>n1000_2</th><th>n1000_3</th><th>n1000_4</th><th>censtate</th><th>cencty</th></tr><tr><td>i64</td><td>i64</td><td>str</td><td>str</td><td>i64</td><td>str</td><td>i64</td><td>str</td><td>i64</td><td>i64</td><td>i32</td><td>i32</td><td>i32</td><td>i32</td><td>i32</td><td>i32</td><td>i32</td><td>i32</td><td>i32</td><td>i32</td><td>i32</td><td>i32</td><td>i32</td><td>i64</td><td>i64</td></tr></thead><tbody><tr><td>1</td><td>1</td><td>&quot;------&quot;</td><td>&quot;G&quot;</td><td>11510</td><td>&quot;G&quot;</td><td>99870</td><td>&quot;G&quot;</td><td>385755</td><td>867</td><td>412</td><td>200</td><td>112</td><td>92</td><td>38</td><td>10</td><td>null</td><td>null</td><td>null</td><td>null</td><td>null</td><td>null</td><td>null</td><td>63</td><td>1</td></tr><tr><td>1</td><td>1</td><td>&quot;11----&quot;</td><td>&quot;H&quot;</td><td>86</td><td>&quot;H&quot;</td><td>1206</td><td>&quot;H&quot;</td><td>4979</td><td>10</td><td>7</td><td>null</td><td>null</td><td>null</td><td>null</td><td>null</td><td>null</td><td>null</td><td>null</td><td>null</td><td>null</td><td>null</td><td>null</td><td>63</td><td>1</td></tr><tr><td>1</td><td>1</td><td>&quot;113///&quot;</td><td>&quot;G&quot;</td><td>73</td><td>&quot;H&quot;</td><td>1033</td><td>&quot;H&quot;</td><td>4210</td><td>7</td><td>5</td><td>null</td><td>null</td><td>null</td><td>null</td><td>null</td><td>null</td><td>null</td><td>null</td><td>null</td><td>null</td><td>null</td><td>null</td><td>63</td><td>1</td></tr></tbody></table></div>"
      ],
      "text/plain": [
       "shape: (3, 25)\n",
       "┌──────────┬─────────┬────────┬────────┬───┬─────────┬─────────┬──────────┬────────┐\n",
       "│ fipstate ┆ fipscty ┆ naics  ┆ emp_nf ┆ … ┆ n1000_3 ┆ n1000_4 ┆ censtate ┆ cencty │\n",
       "│ ---      ┆ ---     ┆ ---    ┆ ---    ┆   ┆ ---     ┆ ---     ┆ ---      ┆ ---    │\n",
       "│ i64      ┆ i64     ┆ str    ┆ str    ┆   ┆ i32     ┆ i32     ┆ i64      ┆ i64    │\n",
       "╞══════════╪═════════╪════════╪════════╪═══╪═════════╪═════════╪══════════╪════════╡\n",
       "│ 1        ┆ 1       ┆ ------ ┆ G      ┆ … ┆ null    ┆ null    ┆ 63       ┆ 1      │\n",
       "│ 1        ┆ 1       ┆ 11---- ┆ H      ┆ … ┆ null    ┆ null    ┆ 63       ┆ 1      │\n",
       "│ 1        ┆ 1       ┆ 113/// ┆ G      ┆ … ┆ null    ┆ null    ┆ 63       ┆ 1      │\n",
       "└──────────┴─────────┴────────┴────────┴───┴─────────┴─────────┴──────────┴────────┘"
      ]
     },
     "execution_count": 159,
     "metadata": {},
     "output_type": "execute_result"
    }
   ],
   "source": [
    "company_size_ranges = ['n<5', 'n5_9', 'n10_19', 'n20_49', 'n50_99', 'n100_249', 'n250_499', 'n500_999', 'n1000', 'n1000_1', 'n1000_2', 'n1000_3', 'n1000_4']\n",
    "for c in company_size_ranges:\n",
    "    df = df.with_columns(pl.when(pl.col(c) == 'N').then(None).otherwise(pl.col(c)).alias(c))\n",
    "\n",
    "    df = df.with_columns(pl.col(c).cast(pl.Int32))\n",
    "    \n",
    "\n",
    "\n",
    "df.limit(3)"
   ]
  },
  {
   "cell_type": "markdown",
   "metadata": {},
   "source": [
    "### Convert State Fips Code to State Name"
   ]
  },
  {
   "cell_type": "code",
   "execution_count": 160,
   "metadata": {},
   "outputs": [
    {
     "name": "stdout",
     "output_type": "stream",
     "text": [
      "3143\n",
      "3142\n"
     ]
    },
    {
     "data": {
      "text/html": [
       "<div><style>\n",
       ".dataframe > thead > tr > th,\n",
       ".dataframe > tbody > tr > td {\n",
       "  text-align: right;\n",
       "  white-space: pre-wrap;\n",
       "}\n",
       "</style>\n",
       "<small>shape: (3_142, 8)</small><table border=\"1\" class=\"dataframe\"><thead><tr><th>fipstate</th><th>CountyFIPS_3</th><th>CountyName</th><th>StateName</th><th>CountyFIPS</th><th>StateAbbr</th><th>STATE_COUNTY</th><th>CountyCBSA</th></tr><tr><td>i64</td><td>i64</td><td>str</td><td>str</td><td>i64</td><td>str</td><td>str</td><td>i64</td></tr></thead><tbody><tr><td>1</td><td>1</td><td>&quot;Autauga&quot;</td><td>&quot;Alabama&quot;</td><td>1001</td><td>&quot;AL&quot;</td><td>&quot;AL | AUTAUGA&quot;</td><td>33860</td></tr><tr><td>1</td><td>3</td><td>&quot;Baldwin&quot;</td><td>&quot;Alabama&quot;</td><td>1003</td><td>&quot;AL&quot;</td><td>&quot;AL | BALDWIN&quot;</td><td>19300</td></tr><tr><td>1</td><td>5</td><td>&quot;Barbour&quot;</td><td>&quot;Alabama&quot;</td><td>1005</td><td>&quot;AL&quot;</td><td>&quot;AL | BARBOUR&quot;</td><td>21640</td></tr><tr><td>1</td><td>7</td><td>&quot;Bibb&quot;</td><td>&quot;Alabama&quot;</td><td>1007</td><td>&quot;AL&quot;</td><td>&quot;AL | BIBB&quot;</td><td>13820</td></tr><tr><td>1</td><td>9</td><td>&quot;Blount&quot;</td><td>&quot;Alabama&quot;</td><td>1009</td><td>&quot;AL&quot;</td><td>&quot;AL | BLOUNT&quot;</td><td>13820</td></tr><tr><td>1</td><td>11</td><td>&quot;Bullock&quot;</td><td>&quot;Alabama&quot;</td><td>1011</td><td>&quot;AL&quot;</td><td>&quot;AL | BULLOCK&quot;</td><td>null</td></tr><tr><td>1</td><td>13</td><td>&quot;Butler&quot;</td><td>&quot;Alabama&quot;</td><td>1013</td><td>&quot;AL&quot;</td><td>&quot;AL | BUTLER&quot;</td><td>null</td></tr><tr><td>1</td><td>15</td><td>&quot;Calhoun&quot;</td><td>&quot;Alabama&quot;</td><td>1015</td><td>&quot;AL&quot;</td><td>&quot;AL | CALHOUN&quot;</td><td>11500</td></tr><tr><td>1</td><td>17</td><td>&quot;Chambers&quot;</td><td>&quot;Alabama&quot;</td><td>1017</td><td>&quot;AL&quot;</td><td>&quot;AL | CHAMBERS&quot;</td><td>29300</td></tr><tr><td>1</td><td>19</td><td>&quot;Cherokee&quot;</td><td>&quot;Alabama&quot;</td><td>1019</td><td>&quot;AL&quot;</td><td>&quot;AL | CHEROKEE&quot;</td><td>null</td></tr><tr><td>1</td><td>21</td><td>&quot;Chilton&quot;</td><td>&quot;Alabama&quot;</td><td>1021</td><td>&quot;AL&quot;</td><td>&quot;AL | CHILTON&quot;</td><td>13820</td></tr><tr><td>1</td><td>23</td><td>&quot;Choctaw&quot;</td><td>&quot;Alabama&quot;</td><td>1023</td><td>&quot;AL&quot;</td><td>&quot;AL | CHOCTAW&quot;</td><td>null</td></tr><tr><td>&hellip;</td><td>&hellip;</td><td>&hellip;</td><td>&hellip;</td><td>&hellip;</td><td>&hellip;</td><td>&hellip;</td><td>&hellip;</td></tr><tr><td>56</td><td>23</td><td>&quot;Lincoln&quot;</td><td>&quot;Wyoming&quot;</td><td>56023</td><td>&quot;WY&quot;</td><td>&quot;WY | LINCOLN&quot;</td><td>null</td></tr><tr><td>56</td><td>25</td><td>&quot;Natrona&quot;</td><td>&quot;Wyoming&quot;</td><td>56025</td><td>&quot;WY&quot;</td><td>&quot;WY | NATRONA&quot;</td><td>16220</td></tr><tr><td>56</td><td>27</td><td>&quot;Niobrara&quot;</td><td>&quot;Wyoming&quot;</td><td>56027</td><td>&quot;WY&quot;</td><td>&quot;WY | NIOBRARA&quot;</td><td>null</td></tr><tr><td>56</td><td>29</td><td>&quot;Park&quot;</td><td>&quot;Wyoming&quot;</td><td>56029</td><td>&quot;WY&quot;</td><td>&quot;WY | PARK&quot;</td><td>17650</td></tr><tr><td>56</td><td>31</td><td>&quot;Platte&quot;</td><td>&quot;Wyoming&quot;</td><td>56031</td><td>&quot;WY&quot;</td><td>&quot;WY | PLATTE&quot;</td><td>null</td></tr><tr><td>56</td><td>33</td><td>&quot;Sheridan&quot;</td><td>&quot;Wyoming&quot;</td><td>56033</td><td>&quot;WY&quot;</td><td>&quot;WY | SHERIDAN&quot;</td><td>43260</td></tr><tr><td>56</td><td>35</td><td>&quot;Sublette&quot;</td><td>&quot;Wyoming&quot;</td><td>56035</td><td>&quot;WY&quot;</td><td>&quot;WY | SUBLETTE&quot;</td><td>null</td></tr><tr><td>56</td><td>37</td><td>&quot;Sweetwater&quot;</td><td>&quot;Wyoming&quot;</td><td>56037</td><td>&quot;WY&quot;</td><td>&quot;WY | SWEETWATE…</td><td>40540</td></tr><tr><td>56</td><td>39</td><td>&quot;Teton&quot;</td><td>&quot;Wyoming&quot;</td><td>56039</td><td>&quot;WY&quot;</td><td>&quot;WY | TETON&quot;</td><td>27220</td></tr><tr><td>56</td><td>41</td><td>&quot;Uinta&quot;</td><td>&quot;Wyoming&quot;</td><td>56041</td><td>&quot;WY&quot;</td><td>&quot;WY | UINTA&quot;</td><td>21740</td></tr><tr><td>56</td><td>43</td><td>&quot;Washakie&quot;</td><td>&quot;Wyoming&quot;</td><td>56043</td><td>&quot;WY&quot;</td><td>&quot;WY | WASHAKIE&quot;</td><td>null</td></tr><tr><td>56</td><td>45</td><td>&quot;Weston&quot;</td><td>&quot;Wyoming&quot;</td><td>56045</td><td>&quot;WY&quot;</td><td>&quot;WY | WESTON&quot;</td><td>null</td></tr></tbody></table></div>"
      ],
      "text/plain": [
       "shape: (3_142, 8)\n",
       "┌──────────┬────────────┬────────────┬───────────┬────────────┬───────────┬────────────┬───────────┐\n",
       "│ fipstate ┆ CountyFIPS ┆ CountyName ┆ StateName ┆ CountyFIPS ┆ StateAbbr ┆ STATE_COUN ┆ CountyCBS │\n",
       "│ ---      ┆ _3         ┆ ---        ┆ ---       ┆ ---        ┆ ---       ┆ TY         ┆ A         │\n",
       "│ i64      ┆ ---        ┆ str        ┆ str       ┆ i64        ┆ str       ┆ ---        ┆ ---       │\n",
       "│          ┆ i64        ┆            ┆           ┆            ┆           ┆ str        ┆ i64       │\n",
       "╞══════════╪════════════╪════════════╪═══════════╪════════════╪═══════════╪════════════╪═══════════╡\n",
       "│ 1        ┆ 1          ┆ Autauga    ┆ Alabama   ┆ 1001       ┆ AL        ┆ AL |       ┆ 33860     │\n",
       "│          ┆            ┆            ┆           ┆            ┆           ┆ AUTAUGA    ┆           │\n",
       "│ 1        ┆ 3          ┆ Baldwin    ┆ Alabama   ┆ 1003       ┆ AL        ┆ AL |       ┆ 19300     │\n",
       "│          ┆            ┆            ┆           ┆            ┆           ┆ BALDWIN    ┆           │\n",
       "│ 1        ┆ 5          ┆ Barbour    ┆ Alabama   ┆ 1005       ┆ AL        ┆ AL |       ┆ 21640     │\n",
       "│          ┆            ┆            ┆           ┆            ┆           ┆ BARBOUR    ┆           │\n",
       "│ 1        ┆ 7          ┆ Bibb       ┆ Alabama   ┆ 1007       ┆ AL        ┆ AL | BIBB  ┆ 13820     │\n",
       "│ …        ┆ …          ┆ …          ┆ …         ┆ …          ┆ …         ┆ …          ┆ …         │\n",
       "│ 56       ┆ 39         ┆ Teton      ┆ Wyoming   ┆ 56039      ┆ WY        ┆ WY | TETON ┆ 27220     │\n",
       "│ 56       ┆ 41         ┆ Uinta      ┆ Wyoming   ┆ 56041      ┆ WY        ┆ WY | UINTA ┆ 21740     │\n",
       "│ 56       ┆ 43         ┆ Washakie   ┆ Wyoming   ┆ 56043      ┆ WY        ┆ WY |       ┆ null      │\n",
       "│          ┆            ┆            ┆           ┆            ┆           ┆ WASHAKIE   ┆           │\n",
       "│ 56       ┆ 45         ┆ Weston     ┆ Wyoming   ┆ 56045      ┆ WY        ┆ WY |       ┆ null      │\n",
       "│          ┆            ┆            ┆           ┆            ┆           ┆ WESTON     ┆           │\n",
       "└──────────┴────────────┴────────────┴───────────┴────────────┴───────────┴────────────┴───────────┘"
      ]
     },
     "execution_count": 160,
     "metadata": {},
     "output_type": "execute_result"
    }
   ],
   "source": [
    "path = os.getenv(\"FIPS_FILE_PATH\")\n",
    "conv_df = pl.read_csv(path, separator='\\t')\n",
    "conv_df = conv_df.rename({'StateFIPS': 'fipstate'})\n",
    "print(len(conv_df))\n",
    "conv_df = conv_df.filter(pl.col('StateName') != 'District of Columbia')\n",
    "print(len(conv_df))\n",
    "conv_df"
   ]
  },
  {
   "cell_type": "markdown",
   "metadata": {},
   "source": [
    "# Group by State"
   ]
  },
  {
   "cell_type": "code",
   "execution_count": 161,
   "metadata": {},
   "outputs": [
    {
     "data": {
      "text/html": [
       "<div><style>\n",
       ".dataframe > thead > tr > th,\n",
       ".dataframe > tbody > tr > td {\n",
       "  text-align: right;\n",
       "  white-space: pre-wrap;\n",
       "}\n",
       "</style>\n",
       "<small>shape: (3, 3)</small><table border=\"1\" class=\"dataframe\"><thead><tr><th>fipstate</th><th>StateName</th><th>StateAbbr</th></tr><tr><td>i64</td><td>str</td><td>str</td></tr></thead><tbody><tr><td>1</td><td>&quot;Alabama&quot;</td><td>&quot;AL&quot;</td></tr><tr><td>2</td><td>&quot;Alaska&quot;</td><td>&quot;AK&quot;</td></tr><tr><td>4</td><td>&quot;Arizona&quot;</td><td>&quot;AZ&quot;</td></tr></tbody></table></div>"
      ],
      "text/plain": [
       "shape: (3, 3)\n",
       "┌──────────┬───────────┬───────────┐\n",
       "│ fipstate ┆ StateName ┆ StateAbbr │\n",
       "│ ---      ┆ ---       ┆ ---       │\n",
       "│ i64      ┆ str       ┆ str       │\n",
       "╞══════════╪═══════════╪═══════════╡\n",
       "│ 1        ┆ Alabama   ┆ AL        │\n",
       "│ 2        ┆ Alaska    ┆ AK        │\n",
       "│ 4        ┆ Arizona   ┆ AZ        │\n",
       "└──────────┴───────────┴───────────┘"
      ]
     },
     "execution_count": 161,
     "metadata": {},
     "output_type": "execute_result"
    }
   ],
   "source": [
    "state_df = df.group_by(\"fipstate\").agg(pl.sum(\"emp\").alias(\"emp\"))\n",
    "\n",
    "state_df.limit(3)\n",
    "\n",
    "state_names = conv_df[['fipstate', 'StateAbbr', 'StateName']]\n",
    "\n",
    "state_names = state_names.group_by('fipstate', 'StateName').agg(pl.first('StateAbbr').alias('StateAbbr')).sort('fipstate')\n",
    "\n",
    "state_names.limit(3)"
   ]
  },
  {
   "cell_type": "code",
   "execution_count": 162,
   "metadata": {},
   "outputs": [
    {
     "data": {
      "text/html": [
       "<div><style>\n",
       ".dataframe > thead > tr > th,\n",
       ".dataframe > tbody > tr > td {\n",
       "  text-align: right;\n",
       "  white-space: pre-wrap;\n",
       "}\n",
       "</style>\n",
       "<small>shape: (3, 4)</small><table border=\"1\" class=\"dataframe\"><thead><tr><th>fipstate</th><th>emp</th><th>StateName</th><th>StateAbbr</th></tr><tr><td>i64</td><td>i64</td><td>str</td><td>str</td></tr></thead><tbody><tr><td>6</td><td>91087226</td><td>&quot;California&quot;</td><td>&quot;CA&quot;</td></tr><tr><td>23</td><td>2672548</td><td>&quot;Maine&quot;</td><td>&quot;ME&quot;</td></tr><tr><td>12</td><td>51509684</td><td>&quot;Florida&quot;</td><td>&quot;FL&quot;</td></tr></tbody></table></div>"
      ],
      "text/plain": [
       "shape: (3, 4)\n",
       "┌──────────┬──────────┬────────────┬───────────┐\n",
       "│ fipstate ┆ emp      ┆ StateName  ┆ StateAbbr │\n",
       "│ ---      ┆ ---      ┆ ---        ┆ ---       │\n",
       "│ i64      ┆ i64      ┆ str        ┆ str       │\n",
       "╞══════════╪══════════╪════════════╪═══════════╡\n",
       "│ 6        ┆ 91087226 ┆ California ┆ CA        │\n",
       "│ 23       ┆ 2672548  ┆ Maine      ┆ ME        │\n",
       "│ 12       ┆ 51509684 ┆ Florida    ┆ FL        │\n",
       "└──────────┴──────────┴────────────┴───────────┘"
      ]
     },
     "execution_count": 162,
     "metadata": {},
     "output_type": "execute_result"
    }
   ],
   "source": [
    "combined = state_df.join(other=state_names, on='fipstate', how='inner')\n",
    "\n",
    "combined.limit(3)"
   ]
  },
  {
   "cell_type": "markdown",
   "metadata": {},
   "source": [
    "# Population Data"
   ]
  },
  {
   "cell_type": "code",
   "execution_count": 163,
   "metadata": {},
   "outputs": [
    {
     "data": {
      "text/html": [
       "<div><style>\n",
       ".dataframe > thead > tr > th,\n",
       ".dataframe > tbody > tr > td {\n",
       "  text-align: right;\n",
       "  white-space: pre-wrap;\n",
       "}\n",
       "</style>\n",
       "<small>shape: (5, 5)</small><table border=\"1\" class=\"dataframe\"><thead><tr><th>table with row headers in column A and column headers in rows 3 through 4. (leading dots indicate sub-parts)</th><th></th><th>_duplicated_0</th><th>_duplicated_1</th><th>_duplicated_2</th></tr><tr><td>str</td><td>str</td><td>str</td><td>str</td><td>str</td></tr></thead><tbody><tr><td>&quot;Annual Estimat…</td><td>&quot;&quot;</td><td>&quot;&quot;</td><td>&quot;&quot;</td><td>&quot;&quot;</td></tr><tr><td>&quot;Geographic Are…</td><td>&quot;April 1, 2020 …</td><td>&quot;Population Est…</td><td>&quot;&quot;</td><td>&quot;&quot;</td></tr><tr><td>&quot;&quot;</td><td>&quot;&quot;</td><td>&quot;2020&quot;</td><td>&quot;2021&quot;</td><td>&quot;2022&quot;</td></tr><tr><td>&quot;United States&quot;</td><td>&quot;331,449,520&quot;</td><td>&quot;331,511,512&quot;</td><td>&quot;332,031,554&quot;</td><td>&quot;333,287,557&quot;</td></tr><tr><td>&quot;Northeast&quot;</td><td>&quot;57,609,156&quot;</td><td>&quot;57,448,898&quot;</td><td>&quot;57,259,257&quot;</td><td>&quot;57,040,406&quot;</td></tr></tbody></table></div>"
      ],
      "text/plain": [
       "shape: (5, 5)\n",
       "┌───────────────────────────┬────────────────┬─────────────────────┬───────────────┬───────────────┐\n",
       "│ table with row headers in ┆                ┆ _duplicated_0       ┆ _duplicated_1 ┆ _duplicated_2 │\n",
       "│ column…                   ┆ ---            ┆ ---                 ┆ ---           ┆ ---           │\n",
       "│ ---                       ┆ str            ┆ str                 ┆ str           ┆ str           │\n",
       "│ str                       ┆                ┆                     ┆               ┆               │\n",
       "╞═══════════════════════════╪════════════════╪═════════════════════╪═══════════════╪═══════════════╡\n",
       "│ Annual Estimates of the   ┆                ┆                     ┆               ┆               │\n",
       "│ Resident…                 ┆                ┆                     ┆               ┆               │\n",
       "│ Geographic Area           ┆ April 1, 2020  ┆ Population Estimate ┆               ┆               │\n",
       "│                           ┆ Estimates Base ┆ (as of July …       ┆               ┆               │\n",
       "│                           ┆                ┆ 2020                ┆ 2021          ┆ 2022          │\n",
       "│ United States             ┆ 331,449,520    ┆ 331,511,512         ┆ 332,031,554   ┆ 333,287,557   │\n",
       "│ Northeast                 ┆ 57,609,156     ┆ 57,448,898          ┆ 57,259,257    ┆ 57,040,406    │\n",
       "└───────────────────────────┴────────────────┴─────────────────────┴───────────────┴───────────────┘"
      ]
     },
     "execution_count": 163,
     "metadata": {},
     "output_type": "execute_result"
    }
   ],
   "source": [
    "data_file_path = os.getenv(\"POPULATION_DATA_PATH\")\n",
    "\n",
    "if data_file_path is not None:\n",
    "    pop_dat = pl.read_csv(data_file_path)\n",
    "else:\n",
    "    print(\"Environment variable POPULATION_DATA_PATH is not set.\")\n",
    "pop_dat.limit(5)"
   ]
  },
  {
   "cell_type": "code",
   "execution_count": 164,
   "metadata": {},
   "outputs": [
    {
     "data": {
      "text/html": [
       "<div><style>\n",
       ".dataframe > thead > tr > th,\n",
       ".dataframe > tbody > tr > td {\n",
       "  text-align: right;\n",
       "  white-space: pre-wrap;\n",
       "}\n",
       "</style>\n",
       "<small>shape: (3, 66)</small><table border=\"1\" class=\"dataframe\"><thead><tr><th>column_0</th><th>column_1</th><th>column_2</th><th>column_3</th><th>column_4</th><th>column_5</th><th>column_6</th><th>column_7</th><th>column_8</th><th>column_9</th><th>column_10</th><th>column_11</th><th>column_12</th><th>column_13</th><th>column_14</th><th>column_15</th><th>column_16</th><th>column_17</th><th>column_18</th><th>column_19</th><th>column_20</th><th>column_21</th><th>column_22</th><th>column_23</th><th>column_24</th><th>column_25</th><th>column_26</th><th>column_27</th><th>column_28</th><th>column_29</th><th>column_30</th><th>column_31</th><th>column_32</th><th>column_33</th><th>column_34</th><th>column_35</th><th>column_36</th><th>column_37</th><th>column_38</th><th>column_39</th><th>column_40</th><th>column_41</th><th>column_42</th><th>column_43</th><th>column_44</th><th>column_45</th><th>column_46</th><th>column_47</th><th>column_48</th><th>column_49</th><th>column_50</th><th>column_51</th><th>column_52</th><th>column_53</th><th>column_54</th><th>column_55</th><th>column_56</th><th>column_57</th><th>column_58</th><th>column_59</th><th>column_60</th><th>column_61</th><th>column_62</th><th>column_63</th><th>column_64</th><th>column_65</th></tr><tr><td>str</td><td>str</td><td>str</td><td>str</td><td>str</td><td>str</td><td>str</td><td>str</td><td>str</td><td>str</td><td>str</td><td>str</td><td>str</td><td>str</td><td>str</td><td>str</td><td>str</td><td>str</td><td>str</td><td>str</td><td>str</td><td>str</td><td>str</td><td>str</td><td>str</td><td>str</td><td>str</td><td>str</td><td>str</td><td>str</td><td>str</td><td>str</td><td>str</td><td>str</td><td>str</td><td>str</td><td>str</td><td>str</td><td>str</td><td>str</td><td>str</td><td>str</td><td>str</td><td>str</td><td>str</td><td>str</td><td>str</td><td>str</td><td>str</td><td>str</td><td>str</td><td>str</td><td>str</td><td>str</td><td>str</td><td>str</td><td>str</td><td>str</td><td>str</td><td>str</td><td>str</td><td>str</td><td>str</td><td>str</td><td>str</td><td>str</td></tr></thead><tbody><tr><td>&quot;Annual Estimat…</td><td>&quot;Geographic Are…</td><td>&quot;&quot;</td><td>&quot;United States&quot;</td><td>&quot;Northeast&quot;</td><td>&quot;Midwest&quot;</td><td>&quot;South&quot;</td><td>&quot;West&quot;</td><td>&quot;.Alabama&quot;</td><td>&quot;.Alaska&quot;</td><td>&quot;.Arizona&quot;</td><td>&quot;.Arkansas&quot;</td><td>&quot;.California&quot;</td><td>&quot;.Colorado&quot;</td><td>&quot;.Connecticut&quot;</td><td>&quot;.Delaware&quot;</td><td>&quot;.District of C…</td><td>&quot;.Florida&quot;</td><td>&quot;.Georgia&quot;</td><td>&quot;.Hawaii&quot;</td><td>&quot;.Idaho&quot;</td><td>&quot;.Illinois&quot;</td><td>&quot;.Indiana&quot;</td><td>&quot;.Iowa&quot;</td><td>&quot;.Kansas&quot;</td><td>&quot;.Kentucky&quot;</td><td>&quot;.Louisiana&quot;</td><td>&quot;.Maine&quot;</td><td>&quot;.Maryland&quot;</td><td>&quot;.Massachusetts…</td><td>&quot;.Michigan&quot;</td><td>&quot;.Minnesota&quot;</td><td>&quot;.Mississippi&quot;</td><td>&quot;.Missouri&quot;</td><td>&quot;.Montana&quot;</td><td>&quot;.Nebraska&quot;</td><td>&quot;.Nevada&quot;</td><td>&quot;.New Hampshire…</td><td>&quot;.New Jersey&quot;</td><td>&quot;.New Mexico&quot;</td><td>&quot;.New York&quot;</td><td>&quot;.North Carolin…</td><td>&quot;.North Dakota&quot;</td><td>&quot;.Ohio&quot;</td><td>&quot;.Oklahoma&quot;</td><td>&quot;.Oregon&quot;</td><td>&quot;.Pennsylvania&quot;</td><td>&quot;.Rhode Island&quot;</td><td>&quot;.South Carolin…</td><td>&quot;.South Dakota&quot;</td><td>&quot;.Tennessee&quot;</td><td>&quot;.Texas&quot;</td><td>&quot;.Utah&quot;</td><td>&quot;.Vermont&quot;</td><td>&quot;.Virginia&quot;</td><td>&quot;.Washington&quot;</td><td>&quot;.West Virginia…</td><td>&quot;.Wisconsin&quot;</td><td>&quot;.Wyoming&quot;</td><td>&quot;&quot;</td><td>&quot;.Puerto Rico&quot;</td><td>&quot;Note: The esti…</td><td>&quot;Suggested Cita…</td><td>&quot;Annual Estimat…</td><td>&quot;Source: U.S. C…</td><td>&quot;Release Date: …</td></tr><tr><td>&quot;&quot;</td><td>&quot;April 1, 2020 …</td><td>&quot;&quot;</td><td>&quot;331,449,520&quot;</td><td>&quot;57,609,156&quot;</td><td>&quot;68,985,537&quot;</td><td>&quot;126,266,262&quot;</td><td>&quot;78,588,565&quot;</td><td>&quot;5,024,356&quot;</td><td>&quot;733,378&quot;</td><td>&quot;7,151,507&quot;</td><td>&quot;3,011,555&quot;</td><td>&quot;39,538,245&quot;</td><td>&quot;5,773,733&quot;</td><td>&quot;3,605,942&quot;</td><td>&quot;989,957&quot;</td><td>&quot;689,546&quot;</td><td>&quot;21,538,226&quot;</td><td>&quot;10,711,937&quot;</td><td>&quot;1,455,273&quot;</td><td>&quot;1,839,092&quot;</td><td>&quot;12,812,545&quot;</td><td>&quot;6,785,668&quot;</td><td>&quot;3,190,372&quot;</td><td>&quot;2,937,847&quot;</td><td>&quot;4,505,893&quot;</td><td>&quot;4,657,749&quot;</td><td>&quot;1,362,341&quot;</td><td>&quot;6,177,213&quot;</td><td>&quot;7,029,949&quot;</td><td>&quot;10,077,325&quot;</td><td>&quot;5,706,504&quot;</td><td>&quot;2,961,288&quot;</td><td>&quot;6,154,920&quot;</td><td>&quot;1,084,197&quot;</td><td>&quot;1,961,489&quot;</td><td>&quot;3,104,624&quot;</td><td>&quot;1,377,518&quot;</td><td>&quot;9,289,031&quot;</td><td>&quot;2,117,527&quot;</td><td>&quot;20,201,230&quot;</td><td>&quot;10,439,414&quot;</td><td>&quot;779,091&quot;</td><td>&quot;11,799,374&quot;</td><td>&quot;3,959,346&quot;</td><td>&quot;4,237,291&quot;</td><td>&quot;13,002,689&quot;</td><td>&quot;1,097,371&quot;</td><td>&quot;5,118,429&quot;</td><td>&quot;886,677&quot;</td><td>&quot;6,910,786&quot;</td><td>&quot;29,145,428&quot;</td><td>&quot;3,271,614&quot;</td><td>&quot;643,085&quot;</td><td>&quot;8,631,384&quot;</td><td>&quot;7,705,247&quot;</td><td>&quot;1,793,755&quot;</td><td>&quot;5,893,725&quot;</td><td>&quot;576,837&quot;</td><td>&quot;&quot;</td><td>&quot;3,285,874&quot;</td><td>&quot;&quot;</td><td>&quot;&quot;</td><td>&quot;&quot;</td><td>&quot;&quot;</td><td>&quot;&quot;</td></tr><tr><td>&quot;&quot;</td><td>&quot;Population Est…</td><td>&quot;2020&quot;</td><td>&quot;331,511,512&quot;</td><td>&quot;57,448,898&quot;</td><td>&quot;68,961,043&quot;</td><td>&quot;126,450,613&quot;</td><td>&quot;78,650,958&quot;</td><td>&quot;5,031,362&quot;</td><td>&quot;732,923&quot;</td><td>&quot;7,179,943&quot;</td><td>&quot;3,014,195&quot;</td><td>&quot;39,501,653&quot;</td><td>&quot;5,784,865&quot;</td><td>&quot;3,597,362&quot;</td><td>&quot;992,114&quot;</td><td>&quot;670,868&quot;</td><td>&quot;21,589,602&quot;</td><td>&quot;10,729,828&quot;</td><td>&quot;1,451,043&quot;</td><td>&quot;1,849,202&quot;</td><td>&quot;12,786,580&quot;</td><td>&quot;6,788,799&quot;</td><td>&quot;3,190,571&quot;</td><td>&quot;2,937,919&quot;</td><td>&quot;4,507,445&quot;</td><td>&quot;4,651,664&quot;</td><td>&quot;1,363,557&quot;</td><td>&quot;6,173,205&quot;</td><td>&quot;6,995,729&quot;</td><td>&quot;10,069,577&quot;</td><td>&quot;5,709,852&quot;</td><td>&quot;2,958,141&quot;</td><td>&quot;6,153,998&quot;</td><td>&quot;1,087,075&quot;</td><td>&quot;1,962,642&quot;</td><td>&quot;3,115,648&quot;</td><td>&quot;1,378,587&quot;</td><td>&quot;9,271,689&quot;</td><td>&quot;2,118,390&quot;</td><td>&quot;20,108,296&quot;</td><td>&quot;10,449,445&quot;</td><td>&quot;779,518&quot;</td><td>&quot;11,797,517&quot;</td><td>&quot;3,964,912&quot;</td><td>&quot;4,244,795&quot;</td><td>&quot;12,994,440&quot;</td><td>&quot;1,096,345&quot;</td><td>&quot;5,131,848&quot;</td><td>&quot;887,799&quot;</td><td>&quot;6,925,619&quot;</td><td>&quot;29,232,474&quot;</td><td>&quot;3,283,785&quot;</td><td>&quot;642,893&quot;</td><td>&quot;8,636,471&quot;</td><td>&quot;7,724,031&quot;</td><td>&quot;1,791,420&quot;</td><td>&quot;5,896,271&quot;</td><td>&quot;577,605&quot;</td><td>&quot;&quot;</td><td>&quot;3,281,557&quot;</td><td>&quot;&quot;</td><td>&quot;&quot;</td><td>&quot;&quot;</td><td>&quot;&quot;</td><td>&quot;&quot;</td></tr></tbody></table></div>"
      ],
      "text/plain": [
       "shape: (3, 66)\n",
       "┌───────────┬───────────┬──────────┬───────────┬───┬───────────┬───────────┬───────────┬───────────┐\n",
       "│ column_0  ┆ column_1  ┆ column_2 ┆ column_3  ┆ … ┆ column_62 ┆ column_63 ┆ column_64 ┆ column_65 │\n",
       "│ ---       ┆ ---       ┆ ---      ┆ ---       ┆   ┆ ---       ┆ ---       ┆ ---       ┆ ---       │\n",
       "│ str       ┆ str       ┆ str      ┆ str       ┆   ┆ str       ┆ str       ┆ str       ┆ str       │\n",
       "╞═══════════╪═══════════╪══════════╪═══════════╪═══╪═══════════╪═══════════╪═══════════╪═══════════╡\n",
       "│ Annual    ┆ Geographi ┆          ┆ United    ┆ … ┆ Suggested ┆ Annual    ┆ Source:   ┆ Release   │\n",
       "│ Estimates ┆ c Area    ┆          ┆ States    ┆   ┆ Citation: ┆ Estimates ┆ U.S.      ┆ Date:     │\n",
       "│ of the    ┆           ┆          ┆           ┆   ┆           ┆ of the    ┆ Census    ┆ December  │\n",
       "│ Resident… ┆           ┆          ┆           ┆   ┆           ┆ Resident… ┆ Bureau,   ┆ 2022      │\n",
       "│           ┆           ┆          ┆           ┆   ┆           ┆           ┆ Popu…     ┆           │\n",
       "│           ┆ April 1,  ┆          ┆ 331,449,5 ┆ … ┆           ┆           ┆           ┆           │\n",
       "│           ┆ 2020      ┆          ┆ 20        ┆   ┆           ┆           ┆           ┆           │\n",
       "│           ┆ Estimates ┆          ┆           ┆   ┆           ┆           ┆           ┆           │\n",
       "│           ┆ Base      ┆          ┆           ┆   ┆           ┆           ┆           ┆           │\n",
       "│           ┆ Populatio ┆ 2020     ┆ 331,511,5 ┆ … ┆           ┆           ┆           ┆           │\n",
       "│           ┆ n         ┆          ┆ 12        ┆   ┆           ┆           ┆           ┆           │\n",
       "│           ┆ Estimate  ┆          ┆           ┆   ┆           ┆           ┆           ┆           │\n",
       "│           ┆ (as of    ┆          ┆           ┆   ┆           ┆           ┆           ┆           │\n",
       "│           ┆ July …    ┆          ┆           ┆   ┆           ┆           ┆           ┆           │\n",
       "└───────────┴───────────┴──────────┴───────────┴───┴───────────┴───────────┴───────────┴───────────┘"
      ]
     },
     "execution_count": 164,
     "metadata": {},
     "output_type": "execute_result"
    }
   ],
   "source": [
    "pop_dat = pop_dat.transpose()\n",
    "pop_dat.limit(3)"
   ]
  },
  {
   "cell_type": "code",
   "execution_count": 165,
   "metadata": {},
   "outputs": [
    {
     "data": {
      "text/html": [
       "<div><style>\n",
       ".dataframe > thead > tr > th,\n",
       ".dataframe > tbody > tr > td {\n",
       "  text-align: right;\n",
       "  white-space: pre-wrap;\n",
       "}\n",
       "</style>\n",
       "<small>shape: (3, 58)</small><table border=\"1\" class=\"dataframe\"><thead><tr><th>year</th><th>column_3</th><th>column_4</th><th>column_5</th><th>column_6</th><th>column_7</th><th>column_8</th><th>column_9</th><th>column_10</th><th>column_11</th><th>column_12</th><th>column_13</th><th>column_14</th><th>column_15</th><th>column_16</th><th>column_17</th><th>column_18</th><th>column_19</th><th>column_20</th><th>column_21</th><th>column_22</th><th>column_23</th><th>column_24</th><th>column_25</th><th>column_26</th><th>column_27</th><th>column_28</th><th>column_29</th><th>column_30</th><th>column_31</th><th>column_32</th><th>column_33</th><th>column_34</th><th>column_35</th><th>column_36</th><th>column_37</th><th>column_38</th><th>column_39</th><th>column_40</th><th>column_41</th><th>column_42</th><th>column_43</th><th>column_44</th><th>column_45</th><th>column_46</th><th>column_47</th><th>column_48</th><th>column_49</th><th>column_50</th><th>column_51</th><th>column_52</th><th>column_53</th><th>column_54</th><th>column_55</th><th>column_56</th><th>column_57</th><th>column_58</th><th>column_60</th></tr><tr><td>str</td><td>str</td><td>str</td><td>str</td><td>str</td><td>str</td><td>str</td><td>str</td><td>str</td><td>str</td><td>str</td><td>str</td><td>str</td><td>str</td><td>str</td><td>str</td><td>str</td><td>str</td><td>str</td><td>str</td><td>str</td><td>str</td><td>str</td><td>str</td><td>str</td><td>str</td><td>str</td><td>str</td><td>str</td><td>str</td><td>str</td><td>str</td><td>str</td><td>str</td><td>str</td><td>str</td><td>str</td><td>str</td><td>str</td><td>str</td><td>str</td><td>str</td><td>str</td><td>str</td><td>str</td><td>str</td><td>str</td><td>str</td><td>str</td><td>str</td><td>str</td><td>str</td><td>str</td><td>str</td><td>str</td><td>str</td><td>str</td><td>str</td></tr></thead><tbody><tr><td>&quot;&quot;</td><td>&quot;United States&quot;</td><td>&quot;Northeast&quot;</td><td>&quot;Midwest&quot;</td><td>&quot;South&quot;</td><td>&quot;West&quot;</td><td>&quot;.Alabama&quot;</td><td>&quot;.Alaska&quot;</td><td>&quot;.Arizona&quot;</td><td>&quot;.Arkansas&quot;</td><td>&quot;.California&quot;</td><td>&quot;.Colorado&quot;</td><td>&quot;.Connecticut&quot;</td><td>&quot;.Delaware&quot;</td><td>&quot;.District of C…</td><td>&quot;.Florida&quot;</td><td>&quot;.Georgia&quot;</td><td>&quot;.Hawaii&quot;</td><td>&quot;.Idaho&quot;</td><td>&quot;.Illinois&quot;</td><td>&quot;.Indiana&quot;</td><td>&quot;.Iowa&quot;</td><td>&quot;.Kansas&quot;</td><td>&quot;.Kentucky&quot;</td><td>&quot;.Louisiana&quot;</td><td>&quot;.Maine&quot;</td><td>&quot;.Maryland&quot;</td><td>&quot;.Massachusetts…</td><td>&quot;.Michigan&quot;</td><td>&quot;.Minnesota&quot;</td><td>&quot;.Mississippi&quot;</td><td>&quot;.Missouri&quot;</td><td>&quot;.Montana&quot;</td><td>&quot;.Nebraska&quot;</td><td>&quot;.Nevada&quot;</td><td>&quot;.New Hampshire…</td><td>&quot;.New Jersey&quot;</td><td>&quot;.New Mexico&quot;</td><td>&quot;.New York&quot;</td><td>&quot;.North Carolin…</td><td>&quot;.North Dakota&quot;</td><td>&quot;.Ohio&quot;</td><td>&quot;.Oklahoma&quot;</td><td>&quot;.Oregon&quot;</td><td>&quot;.Pennsylvania&quot;</td><td>&quot;.Rhode Island&quot;</td><td>&quot;.South Carolin…</td><td>&quot;.South Dakota&quot;</td><td>&quot;.Tennessee&quot;</td><td>&quot;.Texas&quot;</td><td>&quot;.Utah&quot;</td><td>&quot;.Vermont&quot;</td><td>&quot;.Virginia&quot;</td><td>&quot;.Washington&quot;</td><td>&quot;.West Virginia…</td><td>&quot;.Wisconsin&quot;</td><td>&quot;.Wyoming&quot;</td><td>&quot;.Puerto Rico&quot;</td></tr><tr><td>&quot;&quot;</td><td>&quot;331,449,520&quot;</td><td>&quot;57,609,156&quot;</td><td>&quot;68,985,537&quot;</td><td>&quot;126,266,262&quot;</td><td>&quot;78,588,565&quot;</td><td>&quot;5,024,356&quot;</td><td>&quot;733,378&quot;</td><td>&quot;7,151,507&quot;</td><td>&quot;3,011,555&quot;</td><td>&quot;39,538,245&quot;</td><td>&quot;5,773,733&quot;</td><td>&quot;3,605,942&quot;</td><td>&quot;989,957&quot;</td><td>&quot;689,546&quot;</td><td>&quot;21,538,226&quot;</td><td>&quot;10,711,937&quot;</td><td>&quot;1,455,273&quot;</td><td>&quot;1,839,092&quot;</td><td>&quot;12,812,545&quot;</td><td>&quot;6,785,668&quot;</td><td>&quot;3,190,372&quot;</td><td>&quot;2,937,847&quot;</td><td>&quot;4,505,893&quot;</td><td>&quot;4,657,749&quot;</td><td>&quot;1,362,341&quot;</td><td>&quot;6,177,213&quot;</td><td>&quot;7,029,949&quot;</td><td>&quot;10,077,325&quot;</td><td>&quot;5,706,504&quot;</td><td>&quot;2,961,288&quot;</td><td>&quot;6,154,920&quot;</td><td>&quot;1,084,197&quot;</td><td>&quot;1,961,489&quot;</td><td>&quot;3,104,624&quot;</td><td>&quot;1,377,518&quot;</td><td>&quot;9,289,031&quot;</td><td>&quot;2,117,527&quot;</td><td>&quot;20,201,230&quot;</td><td>&quot;10,439,414&quot;</td><td>&quot;779,091&quot;</td><td>&quot;11,799,374&quot;</td><td>&quot;3,959,346&quot;</td><td>&quot;4,237,291&quot;</td><td>&quot;13,002,689&quot;</td><td>&quot;1,097,371&quot;</td><td>&quot;5,118,429&quot;</td><td>&quot;886,677&quot;</td><td>&quot;6,910,786&quot;</td><td>&quot;29,145,428&quot;</td><td>&quot;3,271,614&quot;</td><td>&quot;643,085&quot;</td><td>&quot;8,631,384&quot;</td><td>&quot;7,705,247&quot;</td><td>&quot;1,793,755&quot;</td><td>&quot;5,893,725&quot;</td><td>&quot;576,837&quot;</td><td>&quot;3,285,874&quot;</td></tr><tr><td>&quot;2020&quot;</td><td>&quot;331,511,512&quot;</td><td>&quot;57,448,898&quot;</td><td>&quot;68,961,043&quot;</td><td>&quot;126,450,613&quot;</td><td>&quot;78,650,958&quot;</td><td>&quot;5,031,362&quot;</td><td>&quot;732,923&quot;</td><td>&quot;7,179,943&quot;</td><td>&quot;3,014,195&quot;</td><td>&quot;39,501,653&quot;</td><td>&quot;5,784,865&quot;</td><td>&quot;3,597,362&quot;</td><td>&quot;992,114&quot;</td><td>&quot;670,868&quot;</td><td>&quot;21,589,602&quot;</td><td>&quot;10,729,828&quot;</td><td>&quot;1,451,043&quot;</td><td>&quot;1,849,202&quot;</td><td>&quot;12,786,580&quot;</td><td>&quot;6,788,799&quot;</td><td>&quot;3,190,571&quot;</td><td>&quot;2,937,919&quot;</td><td>&quot;4,507,445&quot;</td><td>&quot;4,651,664&quot;</td><td>&quot;1,363,557&quot;</td><td>&quot;6,173,205&quot;</td><td>&quot;6,995,729&quot;</td><td>&quot;10,069,577&quot;</td><td>&quot;5,709,852&quot;</td><td>&quot;2,958,141&quot;</td><td>&quot;6,153,998&quot;</td><td>&quot;1,087,075&quot;</td><td>&quot;1,962,642&quot;</td><td>&quot;3,115,648&quot;</td><td>&quot;1,378,587&quot;</td><td>&quot;9,271,689&quot;</td><td>&quot;2,118,390&quot;</td><td>&quot;20,108,296&quot;</td><td>&quot;10,449,445&quot;</td><td>&quot;779,518&quot;</td><td>&quot;11,797,517&quot;</td><td>&quot;3,964,912&quot;</td><td>&quot;4,244,795&quot;</td><td>&quot;12,994,440&quot;</td><td>&quot;1,096,345&quot;</td><td>&quot;5,131,848&quot;</td><td>&quot;887,799&quot;</td><td>&quot;6,925,619&quot;</td><td>&quot;29,232,474&quot;</td><td>&quot;3,283,785&quot;</td><td>&quot;642,893&quot;</td><td>&quot;8,636,471&quot;</td><td>&quot;7,724,031&quot;</td><td>&quot;1,791,420&quot;</td><td>&quot;5,896,271&quot;</td><td>&quot;577,605&quot;</td><td>&quot;3,281,557&quot;</td></tr></tbody></table></div>"
      ],
      "text/plain": [
       "shape: (3, 58)\n",
       "┌──────┬────────────┬────────────┬────────────┬───┬────────────┬───────────┬───────────┬───────────┐\n",
       "│ year ┆ column_3   ┆ column_4   ┆ column_5   ┆ … ┆ column_56  ┆ column_57 ┆ column_58 ┆ column_60 │\n",
       "│ ---  ┆ ---        ┆ ---        ┆ ---        ┆   ┆ ---        ┆ ---       ┆ ---       ┆ ---       │\n",
       "│ str  ┆ str        ┆ str        ┆ str        ┆   ┆ str        ┆ str       ┆ str       ┆ str       │\n",
       "╞══════╪════════════╪════════════╪════════════╪═══╪════════════╪═══════════╪═══════════╪═══════════╡\n",
       "│      ┆ United     ┆ Northeast  ┆ Midwest    ┆ … ┆ .West      ┆ .Wisconsi ┆ .Wyoming  ┆ .Puerto   │\n",
       "│      ┆ States     ┆            ┆            ┆   ┆ Virginia   ┆ n         ┆           ┆ Rico      │\n",
       "│      ┆ 331,449,52 ┆ 57,609,156 ┆ 68,985,537 ┆ … ┆ 1,793,755  ┆ 5,893,725 ┆ 576,837   ┆ 3,285,874 │\n",
       "│      ┆ 0          ┆            ┆            ┆   ┆            ┆           ┆           ┆           │\n",
       "│ 2020 ┆ 331,511,51 ┆ 57,448,898 ┆ 68,961,043 ┆ … ┆ 1,791,420  ┆ 5,896,271 ┆ 577,605   ┆ 3,281,557 │\n",
       "│      ┆ 2          ┆            ┆            ┆   ┆            ┆           ┆           ┆           │\n",
       "└──────┴────────────┴────────────┴────────────┴───┴────────────┴───────────┴───────────┴───────────┘"
      ]
     },
     "execution_count": 165,
     "metadata": {},
     "output_type": "execute_result"
    }
   ],
   "source": [
    "pop_dat = pop_dat.drop('column_0', 'column_1', 'column_59', 'column_61', 'column_62', 'column_63', 'column_64', 'column_65')\n",
    "pop_dat = pop_dat.rename({'column_2': 'year'})\n",
    "pop_dat.limit(3)"
   ]
  },
  {
   "cell_type": "code",
   "execution_count": 166,
   "metadata": {},
   "outputs": [
    {
     "data": {
      "text/html": [
       "<div><style>\n",
       ".dataframe > thead > tr > th,\n",
       ".dataframe > tbody > tr > td {\n",
       "  text-align: right;\n",
       "  white-space: pre-wrap;\n",
       "}\n",
       "</style>\n",
       "<small>shape: (3, 5)</small><table border=\"1\" class=\"dataframe\"><thead><tr><th>column_0</th><th>column_1</th><th>column_2</th><th>column_3</th><th>column_4</th></tr><tr><td>str</td><td>str</td><td>str</td><td>str</td><td>str</td></tr></thead><tbody><tr><td>&quot;&quot;</td><td>&quot;&quot;</td><td>&quot;2020&quot;</td><td>&quot;2021&quot;</td><td>&quot;2022&quot;</td></tr><tr><td>&quot;United States&quot;</td><td>&quot;331,449,520&quot;</td><td>&quot;331,511,512&quot;</td><td>&quot;332,031,554&quot;</td><td>&quot;333,287,557&quot;</td></tr><tr><td>&quot;Northeast&quot;</td><td>&quot;57,609,156&quot;</td><td>&quot;57,448,898&quot;</td><td>&quot;57,259,257&quot;</td><td>&quot;57,040,406&quot;</td></tr></tbody></table></div>"
      ],
      "text/plain": [
       "shape: (3, 5)\n",
       "┌───────────────┬─────────────┬─────────────┬─────────────┬─────────────┐\n",
       "│ column_0      ┆ column_1    ┆ column_2    ┆ column_3    ┆ column_4    │\n",
       "│ ---           ┆ ---         ┆ ---         ┆ ---         ┆ ---         │\n",
       "│ str           ┆ str         ┆ str         ┆ str         ┆ str         │\n",
       "╞═══════════════╪═════════════╪═════════════╪═════════════╪═════════════╡\n",
       "│               ┆             ┆ 2020        ┆ 2021        ┆ 2022        │\n",
       "│ United States ┆ 331,449,520 ┆ 331,511,512 ┆ 332,031,554 ┆ 333,287,557 │\n",
       "│ Northeast     ┆ 57,609,156  ┆ 57,448,898  ┆ 57,259,257  ┆ 57,040,406  │\n",
       "└───────────────┴─────────────┴─────────────┴─────────────┴─────────────┘"
      ]
     },
     "execution_count": 166,
     "metadata": {},
     "output_type": "execute_result"
    }
   ],
   "source": [
    "pop_dat = pop_dat.transpose()\n",
    "pop_dat.limit(3)"
   ]
  },
  {
   "cell_type": "code",
   "execution_count": 167,
   "metadata": {},
   "outputs": [
    {
     "data": {
      "text/html": [
       "<div><style>\n",
       ".dataframe > thead > tr > th,\n",
       ".dataframe > tbody > tr > td {\n",
       "  text-align: right;\n",
       "  white-space: pre-wrap;\n",
       "}\n",
       "</style>\n",
       "<small>shape: (3, 5)</small><table border=\"1\" class=\"dataframe\"><thead><tr><th>column_0</th><th>column_1</th><th>column_2</th><th>column_3</th><th>column_4</th></tr><tr><td>str</td><td>str</td><td>str</td><td>str</td><td>str</td></tr></thead><tbody><tr><td>&quot;.Alabama&quot;</td><td>&quot;5,024,356&quot;</td><td>&quot;5,031,362&quot;</td><td>&quot;5,049,846&quot;</td><td>&quot;5,074,296&quot;</td></tr><tr><td>&quot;.Alaska&quot;</td><td>&quot;733,378&quot;</td><td>&quot;732,923&quot;</td><td>&quot;734,182&quot;</td><td>&quot;733,583&quot;</td></tr><tr><td>&quot;.Arizona&quot;</td><td>&quot;7,151,507&quot;</td><td>&quot;7,179,943&quot;</td><td>&quot;7,264,877&quot;</td><td>&quot;7,359,197&quot;</td></tr></tbody></table></div>"
      ],
      "text/plain": [
       "shape: (3, 5)\n",
       "┌──────────┬───────────┬───────────┬───────────┬───────────┐\n",
       "│ column_0 ┆ column_1  ┆ column_2  ┆ column_3  ┆ column_4  │\n",
       "│ ---      ┆ ---       ┆ ---       ┆ ---       ┆ ---       │\n",
       "│ str      ┆ str       ┆ str       ┆ str       ┆ str       │\n",
       "╞══════════╪═══════════╪═══════════╪═══════════╪═══════════╡\n",
       "│ .Alabama ┆ 5,024,356 ┆ 5,031,362 ┆ 5,049,846 ┆ 5,074,296 │\n",
       "│ .Alaska  ┆ 733,378   ┆ 732,923   ┆ 734,182   ┆ 733,583   │\n",
       "│ .Arizona ┆ 7,151,507 ┆ 7,179,943 ┆ 7,264,877 ┆ 7,359,197 │\n",
       "└──────────┴───────────┴───────────┴───────────┴───────────┘"
      ]
     },
     "execution_count": 167,
     "metadata": {},
     "output_type": "execute_result"
    }
   ],
   "source": [
    "pop_dat = pop_dat.slice(6, len(pop_dat))\n",
    "pop_dat.limit(3)"
   ]
  },
  {
   "cell_type": "code",
   "execution_count": 168,
   "metadata": {},
   "outputs": [
    {
     "data": {
      "text/html": [
       "<div><style>\n",
       ".dataframe > thead > tr > th,\n",
       ".dataframe > tbody > tr > td {\n",
       "  text-align: right;\n",
       "  white-space: pre-wrap;\n",
       "}\n",
       "</style>\n",
       "<small>shape: (3, 4)</small><table border=\"1\" class=\"dataframe\"><thead><tr><th>StateName</th><th>population_2020</th><th>population_2021</th><th>population_2022</th></tr><tr><td>str</td><td>str</td><td>str</td><td>str</td></tr></thead><tbody><tr><td>&quot;Alabama&quot;</td><td>&quot;5,031,362&quot;</td><td>&quot;5,049,846&quot;</td><td>&quot;5,074,296&quot;</td></tr><tr><td>&quot;Alaska&quot;</td><td>&quot;732,923&quot;</td><td>&quot;734,182&quot;</td><td>&quot;733,583&quot;</td></tr><tr><td>&quot;Arizona&quot;</td><td>&quot;7,179,943&quot;</td><td>&quot;7,264,877&quot;</td><td>&quot;7,359,197&quot;</td></tr></tbody></table></div>"
      ],
      "text/plain": [
       "shape: (3, 4)\n",
       "┌───────────┬─────────────────┬─────────────────┬─────────────────┐\n",
       "│ StateName ┆ population_2020 ┆ population_2021 ┆ population_2022 │\n",
       "│ ---       ┆ ---             ┆ ---             ┆ ---             │\n",
       "│ str       ┆ str             ┆ str             ┆ str             │\n",
       "╞═══════════╪═════════════════╪═════════════════╪═════════════════╡\n",
       "│ Alabama   ┆ 5,031,362       ┆ 5,049,846       ┆ 5,074,296       │\n",
       "│ Alaska    ┆ 732,923         ┆ 734,182         ┆ 733,583         │\n",
       "│ Arizona   ┆ 7,179,943       ┆ 7,264,877       ┆ 7,359,197       │\n",
       "└───────────┴─────────────────┴─────────────────┴─────────────────┘"
      ]
     },
     "execution_count": 168,
     "metadata": {},
     "output_type": "execute_result"
    }
   ],
   "source": [
    "pop_dat = pop_dat.drop('column_1')\\\n",
    "        .rename({'column_0': 'StateName', 'column_2': 'population_2020', 'column_3': 'population_2021', 'column_4': 'population_2022'})\\\n",
    "        .with_columns(pl.col('StateName').str.replace('.', ''))\n",
    "\n",
    "pop_dat.limit(3)"
   ]
  },
  {
   "cell_type": "code",
   "execution_count": 169,
   "metadata": {},
   "outputs": [
    {
     "data": {
      "text/html": [
       "<div><style>\n",
       ".dataframe > thead > tr > th,\n",
       ".dataframe > tbody > tr > td {\n",
       "  text-align: right;\n",
       "  white-space: pre-wrap;\n",
       "}\n",
       "</style>\n",
       "<small>shape: (3, 4)</small><table border=\"1\" class=\"dataframe\"><thead><tr><th>StateName</th><th>population_2020</th><th>population_2021</th><th>population_2022</th></tr><tr><td>str</td><td>i32</td><td>i32</td><td>i32</td></tr></thead><tbody><tr><td>&quot;Alabama&quot;</td><td>5031362</td><td>5049846</td><td>5074296</td></tr><tr><td>&quot;Alaska&quot;</td><td>732923</td><td>734182</td><td>733583</td></tr><tr><td>&quot;Arizona&quot;</td><td>7179943</td><td>7264877</td><td>7359197</td></tr></tbody></table></div>"
      ],
      "text/plain": [
       "shape: (3, 4)\n",
       "┌───────────┬─────────────────┬─────────────────┬─────────────────┐\n",
       "│ StateName ┆ population_2020 ┆ population_2021 ┆ population_2022 │\n",
       "│ ---       ┆ ---             ┆ ---             ┆ ---             │\n",
       "│ str       ┆ i32             ┆ i32             ┆ i32             │\n",
       "╞═══════════╪═════════════════╪═════════════════╪═════════════════╡\n",
       "│ Alabama   ┆ 5031362         ┆ 5049846         ┆ 5074296         │\n",
       "│ Alaska    ┆ 732923          ┆ 734182          ┆ 733583          │\n",
       "│ Arizona   ┆ 7179943         ┆ 7264877         ┆ 7359197         │\n",
       "└───────────┴─────────────────┴─────────────────┴─────────────────┘"
      ]
     },
     "execution_count": 169,
     "metadata": {},
     "output_type": "execute_result"
    }
   ],
   "source": [
    "pop_dat = pop_dat.with_columns(pl.col('population_2020').str.replace_all(',', '').cast(pl.Int32))\\\n",
    "        .with_columns(pl.col('population_2021').str.replace_all(',', '').cast(pl.Int32))\\\n",
    "        .with_columns(pl.col('population_2022').str.replace_all(',', '').cast(pl.Int32))\n",
    "\n",
    "                    \n",
    "pop_dat.limit(3)"
   ]
  },
  {
   "cell_type": "markdown",
   "metadata": {},
   "source": [
    "# Join Population, Employment, and Fips data"
   ]
  },
  {
   "cell_type": "code",
   "execution_count": 170,
   "metadata": {},
   "outputs": [
    {
     "data": {
      "text/html": [
       "<div><style>\n",
       ".dataframe > thead > tr > th,\n",
       ".dataframe > tbody > tr > td {\n",
       "  text-align: right;\n",
       "  white-space: pre-wrap;\n",
       "}\n",
       "</style>\n",
       "<small>shape: (3, 7)</small><table border=\"1\" class=\"dataframe\"><thead><tr><th>fipstate</th><th>emp</th><th>StateName</th><th>StateAbbr</th><th>population_2020</th><th>population_2021</th><th>population_2022</th></tr><tr><td>i64</td><td>i64</td><td>str</td><td>str</td><td>i32</td><td>i32</td><td>i32</td></tr></thead><tbody><tr><td>1</td><td>8876890</td><td>&quot;Alabama&quot;</td><td>&quot;AL&quot;</td><td>5031362</td><td>5049846</td><td>5074296</td></tr><tr><td>2</td><td>1353372</td><td>&quot;Alaska&quot;</td><td>&quot;AK&quot;</td><td>732923</td><td>734182</td><td>733583</td></tr><tr><td>4</td><td>15199279</td><td>&quot;Arizona&quot;</td><td>&quot;AZ&quot;</td><td>7179943</td><td>7264877</td><td>7359197</td></tr></tbody></table></div>"
      ],
      "text/plain": [
       "shape: (3, 7)\n",
       "┌──────────┬──────────┬───────────┬───────────┬─────────────────┬─────────────────┬────────────────┐\n",
       "│ fipstate ┆ emp      ┆ StateName ┆ StateAbbr ┆ population_2020 ┆ population_2021 ┆ population_202 │\n",
       "│ ---      ┆ ---      ┆ ---       ┆ ---       ┆ ---             ┆ ---             ┆ 2              │\n",
       "│ i64      ┆ i64      ┆ str       ┆ str       ┆ i32             ┆ i32             ┆ ---            │\n",
       "│          ┆          ┆           ┆           ┆                 ┆                 ┆ i32            │\n",
       "╞══════════╪══════════╪═══════════╪═══════════╪═════════════════╪═════════════════╪════════════════╡\n",
       "│ 1        ┆ 8876890  ┆ Alabama   ┆ AL        ┆ 5031362         ┆ 5049846         ┆ 5074296        │\n",
       "│ 2        ┆ 1353372  ┆ Alaska    ┆ AK        ┆ 732923          ┆ 734182          ┆ 733583         │\n",
       "│ 4        ┆ 15199279 ┆ Arizona   ┆ AZ        ┆ 7179943         ┆ 7264877         ┆ 7359197        │\n",
       "└──────────┴──────────┴───────────┴───────────┴─────────────────┴─────────────────┴────────────────┘"
      ]
     },
     "execution_count": 170,
     "metadata": {},
     "output_type": "execute_result"
    }
   ],
   "source": [
    "df = combined.join(other=pop_dat, how='inner', on='StateName')\n",
    "df.limit(3)"
   ]
  },
  {
   "cell_type": "code",
   "execution_count": 171,
   "metadata": {},
   "outputs": [
    {
     "data": {
      "text/html": [
       "<div><style>\n",
       ".dataframe > thead > tr > th,\n",
       ".dataframe > tbody > tr > td {\n",
       "  text-align: right;\n",
       "  white-space: pre-wrap;\n",
       "}\n",
       "</style>\n",
       "<small>shape: (3, 10)</small><table border=\"1\" class=\"dataframe\"><thead><tr><th>fipstate</th><th>emp</th><th>StateName</th><th>StateAbbr</th><th>population_2020</th><th>population_2021</th><th>population_2022</th><th>emp_ratio_20</th><th>emp_ratio_21</th><th>emp_ratio_22</th></tr><tr><td>i64</td><td>i32</td><td>str</td><td>str</td><td>i32</td><td>i32</td><td>i32</td><td>f64</td><td>f64</td><td>f64</td></tr></thead><tbody><tr><td>1</td><td>8876890</td><td>&quot;Alabama&quot;</td><td>&quot;AL&quot;</td><td>5031362</td><td>5049846</td><td>5074296</td><td>0.566793</td><td>0.568876</td><td>0.57163</td></tr><tr><td>2</td><td>1353372</td><td>&quot;Alaska&quot;</td><td>&quot;AK&quot;</td><td>732923</td><td>734182</td><td>733583</td><td>0.541553</td><td>0.542484</td><td>0.542041</td></tr><tr><td>4</td><td>15199279</td><td>&quot;Arizona&quot;</td><td>&quot;AZ&quot;</td><td>7179943</td><td>7264877</td><td>7359197</td><td>0.472387</td><td>0.477975</td><td>0.484181</td></tr></tbody></table></div>"
      ],
      "text/plain": [
       "shape: (3, 10)\n",
       "┌──────────┬──────────┬───────────┬───────────┬───┬────────────┬───────────┬───────────┬───────────┐\n",
       "│ fipstate ┆ emp      ┆ StateName ┆ StateAbbr ┆ … ┆ population ┆ emp_ratio ┆ emp_ratio ┆ emp_ratio │\n",
       "│ ---      ┆ ---      ┆ ---       ┆ ---       ┆   ┆ _2022      ┆ _20       ┆ _21       ┆ _22       │\n",
       "│ i64      ┆ i32      ┆ str       ┆ str       ┆   ┆ ---        ┆ ---       ┆ ---       ┆ ---       │\n",
       "│          ┆          ┆           ┆           ┆   ┆ i32        ┆ f64       ┆ f64       ┆ f64       │\n",
       "╞══════════╪══════════╪═══════════╪═══════════╪═══╪════════════╪═══════════╪═══════════╪═══════════╡\n",
       "│ 1        ┆ 8876890  ┆ Alabama   ┆ AL        ┆ … ┆ 5074296    ┆ 0.566793  ┆ 0.568876  ┆ 0.57163   │\n",
       "│ 2        ┆ 1353372  ┆ Alaska    ┆ AK        ┆ … ┆ 733583     ┆ 0.541553  ┆ 0.542484  ┆ 0.542041  │\n",
       "│ 4        ┆ 15199279 ┆ Arizona   ┆ AZ        ┆ … ┆ 7359197    ┆ 0.472387  ┆ 0.477975  ┆ 0.484181  │\n",
       "└──────────┴──────────┴───────────┴───────────┴───┴────────────┴───────────┴───────────┴───────────┘"
      ]
     },
     "execution_count": 171,
     "metadata": {},
     "output_type": "execute_result"
    }
   ],
   "source": [
    "df = df.with_columns(pl.col('emp').cast(pl.Int32))\\\n",
    "        .with_columns(emp_ratio_20 = pl.col('population_2020') / pl.col('emp'))\\\n",
    "        .with_columns(emp_ratio_21 = pl.col('population_2021') / pl.col('emp'))\\\n",
    "        .with_columns(emp_ratio_22 = pl.col('population_2022') / pl.col('emp'))\n",
    "df.limit(3)"
   ]
  },
  {
   "cell_type": "markdown",
   "metadata": {},
   "source": [
    "# Spatial Employment Map"
   ]
  },
  {
   "cell_type": "code",
   "execution_count": 172,
   "metadata": {},
   "outputs": [],
   "source": [
    "pio.renderers.default = \"browser\"\n",
    "fig = px.choropleth(df, locations=\"StateAbbr\",\n",
    "                    color=\"emp_ratio_22\",\n",
    "                    hover_name=\"StateAbbr\",\n",
    "                    locationmode='USA-states',\n",
    "                    color_continuous_scale=px.colors.sequential.Oranges,\n",
    "                    scope=\"usa\")\n",
    "\n",
    "\n",
    "fig.update_layout(\n",
    "    title_text=\"Employment by State\",\n",
    "    geo_scope='usa'\n",
    ")\n",
    "\n",
    "fig.show()"
   ]
  },
  {
   "cell_type": "code",
   "execution_count": 173,
   "metadata": {},
   "outputs": [
    {
     "data": {
      "text/html": [
       "<div><style>\n",
       ".dataframe > thead > tr > th,\n",
       ".dataframe > tbody > tr > td {\n",
       "  text-align: right;\n",
       "  white-space: pre-wrap;\n",
       "}\n",
       "</style>\n",
       "<small>shape: (3, 3)</small><table border=\"1\" class=\"dataframe\"><thead><tr><th>price</th><th>num_products</th><th>ratio</th></tr><tr><td>i64</td><td>i64</td><td>f64</td></tr></thead><tbody><tr><td>10</td><td>20</td><td>0.5</td></tr><tr><td>15</td><td>17</td><td>0.882353</td></tr><tr><td>70</td><td>40</td><td>1.75</td></tr></tbody></table></div>"
      ],
      "text/plain": [
       "shape: (3, 3)\n",
       "┌───────┬──────────────┬──────────┐\n",
       "│ price ┆ num_products ┆ ratio    │\n",
       "│ ---   ┆ ---          ┆ ---      │\n",
       "│ i64   ┆ i64          ┆ f64      │\n",
       "╞═══════╪══════════════╪══════════╡\n",
       "│ 10    ┆ 20           ┆ 0.5      │\n",
       "│ 15    ┆ 17           ┆ 0.882353 │\n",
       "│ 70    ┆ 40           ┆ 1.75     │\n",
       "└───────┴──────────────┴──────────┘"
      ]
     },
     "execution_count": 173,
     "metadata": {},
     "output_type": "execute_result"
    }
   ],
   "source": [
    "data = pl.DataFrame({\n",
    "    'price':[10, 15, 70],\n",
    "    'num_products':[20, 17, 40]\n",
    "})\n",
    "data = data.with_columns(ratio = data['price'] / data['num_products'])\n",
    "data"
   ]
  },
  {
   "cell_type": "code",
   "execution_count": null,
   "metadata": {},
   "outputs": [],
   "source": []
  }
 ],
 "metadata": {
  "kernelspec": {
   "display_name": "Python 3",
   "language": "python",
   "name": "python3"
  },
  "language_info": {
   "codemirror_mode": {
    "name": "ipython",
    "version": 3
   },
   "file_extension": ".py",
   "mimetype": "text/x-python",
   "name": "python",
   "nbconvert_exporter": "python",
   "pygments_lexer": "ipython3",
   "version": "3.10.8"
  },
  "orig_nbformat": 4
 },
 "nbformat": 4,
 "nbformat_minor": 2
}
