{
 "cells": [
  {
   "cell_type": "markdown",
   "metadata": {},
   "source": [
    "# Final Decision Tree Models"
   ]
  },
  {
   "cell_type": "code",
   "execution_count": 43,
   "metadata": {},
   "outputs": [],
   "source": [
    "from preprocessing import get_preprocessed_df\n",
    "from sklearn.tree import DecisionTreeClassifier\n",
    "from sklearn.metrics import accuracy_score, confusion_matrix, classification_report, f1_score\n",
    "from xgboost import XGBClassifier\n",
    "import multiprocessing as mp\n",
    "from sklearn.naive_bayes import GaussianNB\n",
    "from sklearn.ensemble import RandomForestClassifier\n",
    "from sklearn.neighbors import KNeighborsClassifier\n",
    "from sklearn.metrics import confusion_matrix, ConfusionMatrixDisplay"
   ]
  },
  {
   "cell_type": "code",
   "execution_count": 59,
   "metadata": {},
   "outputs": [],
   "source": [
    "def get_results(holdout, model, chosen_features, y_test, y_pred):\n",
    "    holdout_true = holdout[' loan_status']\n",
    "    # holdout.drop(columns=[' loan_status'], inplace=True)\n",
    "    holdout_pred = model.predict(holdout[chosen_features])\n",
    "    val_acc = accuracy_score(y_test, y_pred)\n",
    "    holdout_f1 = f1_score(holdout_true, holdout_pred)\n",
    "    holdout_acc = accuracy_score(holdout_true, holdout_pred)\n",
    "    cm = confusion_matrix(holdout_true, holdout_pred)\n",
    "\n",
    "    disp = ConfusionMatrixDisplay(confusion_matrix=cm, display_labels=['Rejected', 'Approved'])\n",
    "    disp.plot()\n",
    "    return val_acc, holdout_f1, holdout_acc\n",
    "\n"
   ]
  },
  {
   "cell_type": "markdown",
   "metadata": {},
   "source": [
    "# Vanilla Tree"
   ]
  },
  {
   "cell_type": "code",
   "execution_count": 45,
   "metadata": {},
   "outputs": [
    {
     "name": "stdout",
     "output_type": "stream",
     "text": [
      "------------------------------------ Without Cibil Score ------------------------------------\n",
      "F1: 0.6447985004686035\n",
      "Accuracy: 0.5562060889929742\n",
      "Holdout F1: 0.6374045801526718\n",
      "Holdout Accuracy: 0.5550351288056206\n",
      "------------------------------------ With Cibil Score ------------------------------------\n",
      "holdout f1: 0.998109640831758\n",
      "holdout acc: 0.9976580796252927\n"
     ]
    }
   ],
   "source": [
    "def vanilla_tree():\n",
    "    x_train, x_test, y_train, y_test, holdout = get_preprocessed_df()\n",
    "    model = DecisionTreeClassifier(random_state=42)\n",
    "    model.fit(x_train, y_train)\n",
    "    y_pred = model.predict(x_test)\n",
    "    holdout_true = holdout[' loan_status']\n",
    "    holdout.drop(columns=[' loan_status'], inplace=True)\n",
    "    holdout_pred = model.predict(holdout)\n",
    "    \n",
    "    print('------------------------------------ Without Cibil Score ------------------------------------')\n",
    "\n",
    "    print(\"F1:\", f1_score(y_test, y_pred))\n",
    "    print(\"Accuracy:\", accuracy_score(y_test, y_pred))\n",
    "    print(\"Holdout F1:\", f1_score(holdout_true, holdout_pred))\n",
    "    print(\"Holdout Accuracy:\", accuracy_score(holdout_true, holdout_pred))\n",
    "\n",
    "    x_train, x_test, y_train, y_test, holdout = get_preprocessed_df(with_cibil=True)\n",
    "    model = DecisionTreeClassifier(random_state=42)\n",
    "    model.fit(x_train, y_train)\n",
    "    y_pred = model.predict(x_test)\n",
    "    holdout_true = holdout[' loan_status']\n",
    "    holdout.drop(columns=[' loan_status'], inplace=True)\n",
    "    holdout_pred = model.predict(holdout)\n",
    "\n",
    "    print('------------------------------------ With Cibil Score ------------------------------------')\n",
    "    print(f'holdout f1: {f1_score(holdout_true, holdout_pred)}')\n",
    "    print(f'holdout acc: {accuracy_score(holdout_true, holdout_pred)}')\n",
    "\n",
    "\n",
    "vanilla_tree()"
   ]
  },
  {
   "cell_type": "markdown",
   "metadata": {},
   "source": [
    "# Decision Tree Classifier"
   ]
  },
  {
   "cell_type": "code",
   "execution_count": 46,
   "metadata": {},
   "outputs": [
    {
     "name": "stdout",
     "output_type": "stream",
     "text": [
      "------------------------------------ Without Cibil Score ------------------------------------\n",
      "val f1: 0.7728911319394377\n",
      "holdout f1: 0.7663280116110306\n",
      "val acc: 0.6311475409836066\n",
      "holdout acc: 0.6229508196721312\n",
      "------------------------------------ With Cibil Score ------------------------------------\n",
      "holdout f1: 0.9981024667931689\n",
      "holdout acc: 0.9976580796252927\n"
     ]
    }
   ],
   "source": [
    "x_train, x_test, y_train, y_test, holdout = get_preprocessed_df()\n",
    "\n",
    "number_of_features = 17\n",
    "features = [' col_times_term',\n",
    "     ' loan_term',\n",
    "     ' lux_times_res',\n",
    "     ' self_employed_ No',\n",
    "     ' no_of_dependents_1',\n",
    "     ' no_of_dependents_4',\n",
    "     ' income_annum',\n",
    "     ' loan_amount',\n",
    "     ' self_employed_ Yes',\n",
    "     ' education_ Graduate',\n",
    "     ' no_of_dependents_2',\n",
    "     ' term_times_income',\n",
    "     ' residential_assets_value',\n",
    "     ' loan_coll_ratio',\n",
    "     ' loan_income_ratio',\n",
    "     ' commercial_assets_value',\n",
    "     ' bank_asset_value']\n",
    "\n",
    "\n",
    "\n",
    "hyperparameters = {\n",
    "    'max_depth': 27,\n",
    "    'min_samples_split': 13,\n",
    "    'min_samples_leaf': 5,\n",
    "    'max_features': None,\n",
    "    'criterion': 'log_loss',\n",
    "    'random_state': 42,\n",
    "    'class_weight': None,\n",
    "    'splitter': 'best',\n",
    "    'max_leaf_nodes': 52,\n",
    "    'min_impurity_decrease': 0.0015640478078397374,\n",
    "    'min_weight_fraction_leaf': 0.001673957360422289,\n",
    "}\n",
    "\n",
    "model = DecisionTreeClassifier(**hyperparameters)\n",
    "model.fit(x_train[features], y_train)\n",
    "y_pred = model.predict(x_test[features])\n",
    "f1 = f1_score(y_test, y_pred)\n",
    "val_acc, holdout_f1, holdout_acc = get_results(holdout, model, features, y_test, y_pred)\n",
    "\n",
    "\n",
    "print('------------------------------------ Without Cibil Score ------------------------------------')\n",
    "print(f'val f1: {f1}')\n",
    "print(f'holdout f1: {holdout_f1}')\n",
    "print(f'val acc: {val_acc}')\n",
    "print(f'holdout acc: {holdout_acc}')\n",
    "\n",
    "x_train, x_test, y_train, y_test, holdout = get_preprocessed_df(with_cibil=True)\n",
    "features.append(' cibil_score')\n",
    "model = DecisionTreeClassifier(**hyperparameters)\n",
    "model.fit(x_train[features], y_train)\n",
    "y_pred = model.predict(x_test[features])\n",
    "f1 = f1_score(y_test, y_pred)\n",
    "val_acc, holdout_f1, holdout_acc = get_results(holdout, model, features, y_test, y_pred)\n",
    "\n",
    "print('------------------------------------ With Cibil Score ------------------------------------')\n",
    "print(f'holdout f1: {holdout_f1}')\n",
    "print(f'holdout acc: {holdout_acc}')"
   ]
  },
  {
   "cell_type": "markdown",
   "metadata": {},
   "source": [
    "# eXtreme Gradient Boosting Classifier"
   ]
  },
  {
   "cell_type": "code",
   "execution_count": 60,
   "metadata": {},
   "outputs": [
    {
     "name": "stdout",
     "output_type": "stream",
     "text": [
      "------------------------------------ Without Cibil Score ------------------------------------\n",
      "val f1: 0.774800868935554\n",
      "holdout f1: 0.7685589519650655\n",
      "val acc: 0.6358313817330211\n",
      "holdout acc: 0.6276346604215457\n",
      "------------------------------------ With Cibil Score ------------------------------------\n",
      "holdout f1: 0.9546351084812623\n",
      "holdout acc: 0.9461358313817331\n"
     ]
    },
    {
     "data": {
      "image/png": "[encoded data removed]",
      "text/plain": [
       "<Figure size 640x480 with 2 Axes>"
      ]
     },
     "metadata": {},
     "output_type": "display_data"
    },
    {
     "data": {
      "image/png": "[encoded data removed]",
      "text/plain": [
       "<Figure size 640x480 with 2 Axes>"
      ]
     },
     "metadata": {},
     "output_type": "display_data"
    }
   ],
   "source": [
    "x_train, x_test, y_train, y_test, holdout = get_preprocessed_df()\n",
    "\n",
    "number_of_features = 6\n",
    "features = [' no_of_dependents_4',\n",
    "     ' no_of_dependents_0',\n",
    "     ' loan_coll_ratio',\n",
    "     ' loan_income_ratio',\n",
    "     ' commercial_assets_value',\n",
    "     ' bank_asset_value']\n",
    "\n",
    "\n",
    "\n",
    "hyperparameters = {\n",
    "    'max_depth': 4,\n",
    "    'random_state': 42,\n",
    "    'min_split_loss': 3,\n",
    "    'min_child_weight': 14,\n",
    "    'subsample': 0.868207131636942,\n",
    "    'reg_lambda': 3,\n",
    "    'reg_alpha': 2,\n",
    "    'learning_rate': 0.04797473982907923\n",
    "}\n",
    "\n",
    "model = XGBClassifier(**hyperparameters)\n",
    "model.fit(x_train[features], y_train)\n",
    "y_pred = model.predict(x_test[features])\n",
    "f1 = f1_score(y_test, y_pred)\n",
    "val_acc, holdout_f1, holdout_acc = get_results(holdout, model, features, y_test, y_pred)\n",
    "\n",
    "\n",
    "print('------------------------------------ Without Cibil Score ------------------------------------')\n",
    "print(f'val f1: {f1}')\n",
    "print(f'holdout f1: {holdout_f1}')\n",
    "print(f'val acc: {val_acc}')\n",
    "print(f'holdout acc: {holdout_acc}')\n",
    "\n",
    "x_train, x_test, y_train, y_test, holdout = get_preprocessed_df(with_cibil=True)\n",
    "features.append(' cibil_score')\n",
    "model = XGBClassifier(**hyperparameters)\n",
    "model.fit(x_train[features], y_train)\n",
    "y_pred = model.predict(x_test[features])\n",
    "f1 = f1_score(y_test, y_pred)\n",
    "val_acc, holdout_f1, holdout_acc = get_results(holdout, model, features, y_test, y_pred)\n",
    "\n",
    "print('------------------------------------ With Cibil Score ------------------------------------')\n",
    "print(f'holdout f1: {holdout_f1}')\n",
    "print(f'holdout acc: {holdout_acc}')"
   ]
  },
  {
   "cell_type": "markdown",
   "metadata": {},
   "source": [
    "# Gaussian Naive Bayes"
   ]
  },
  {
   "cell_type": "code",
   "execution_count": 48,
   "metadata": {},
   "outputs": [
    {
     "name": "stdout",
     "output_type": "stream",
     "text": [
      "------------------------------------ Without Cibil Score ------------------------------------\n",
      "val f1: 0.7722342733188721\n",
      "holdout f1: 0.760522496371553\n",
      "val acc: 0.6311475409836066\n",
      "holdout acc: 0.6135831381733021\n",
      "------------------------------------ With Cibil Score ------------------------------------\n",
      "holdout f1: 0.7616279069767442\n",
      "holdout acc: 0.6159250585480094\n"
     ]
    }
   ],
   "source": [
    "x_train, x_test, y_train, y_test, holdout = get_preprocessed_df()\n",
    "\n",
    "number_of_features = 17\n",
    "features = [' no_of_dependents_2',\n",
    "     ' loan_amount',\n",
    "     ' self_employed_ No',\n",
    "     ' income_annum',\n",
    "     ' self_employed_ Yes',\n",
    "     ' no_of_dependents_5',\n",
    "     ' no_of_dependents_3',\n",
    "     ' residential_assets_value',\n",
    "     ' term_times_income',\n",
    "     ' no_of_dependents_1',\n",
    "     ' no_of_dependents_4',\n",
    "     ' education_ Not Graduate',\n",
    "     ' education_ Graduate',\n",
    "     ' loan_coll_ratio',\n",
    "     ' loan_income_ratio',\n",
    "     ' commercial_assets_value',\n",
    "     ' bank_asset_value']\n",
    "\n",
    "model = GaussianNB()\n",
    "model.fit(x_train[features], y_train)\n",
    "y_pred = model.predict(x_test[features])\n",
    "f1 = f1_score(y_test, y_pred)\n",
    "val_acc, holdout_f1, holdout_acc = get_results(holdout, model, features, y_test, y_pred)\n",
    "\n",
    "\n",
    "print('------------------------------------ Without Cibil Score ------------------------------------')\n",
    "print(f'val f1: {f1}')\n",
    "print(f'holdout f1: {holdout_f1}')\n",
    "print(f'val acc: {val_acc}')\n",
    "print(f'holdout acc: {holdout_acc}')\n",
    "\n",
    "x_train, x_test, y_train, y_test, holdout = get_preprocessed_df(with_cibil=True)\n",
    "features.append(' cibil_score')\n",
    "model = GaussianNB()\n",
    "model.fit(x_train[features], y_train)\n",
    "y_pred = model.predict(x_test[features])\n",
    "f1 = f1_score(y_test, y_pred)\n",
    "val_acc, holdout_f1, holdout_acc = get_results(holdout, model, features, y_test, y_pred)\n",
    "\n",
    "print('------------------------------------ With Cibil Score ------------------------------------')\n",
    "print(f'holdout f1: {holdout_f1}')\n",
    "print(f'holdout acc: {holdout_acc}')"
   ]
  },
  {
   "cell_type": "markdown",
   "metadata": {},
   "source": [
    "# Random Forest Classifier"
   ]
  },
  {
   "cell_type": "code",
   "execution_count": 49,
   "metadata": {},
   "outputs": [
    {
     "name": "stdout",
     "output_type": "stream",
     "text": [
      "------------------------------------ Without Cibil Score ------------------------------------\n",
      "val f1: 0.7760758570386579\n",
      "holdout f1: 0.759124087591241\n",
      "val acc: 0.6405152224824356\n",
      "holdout acc: 0.6135831381733021\n",
      "------------------------------------ With Cibil Score ------------------------------------\n",
      "holdout f1: 0.998109640831758\n",
      "holdout acc: 0.9976580796252927\n"
     ]
    }
   ],
   "source": [
    "x_train, x_test, y_train, y_test, holdout = get_preprocessed_df()\n",
    "\n",
    "number_of_features = 18\n",
    "features = [' total_collateral',\n",
    "     ' col_times_term',\n",
    "     ' education_ Not Graduate',\n",
    "     ' no_of_dependents_0',\n",
    "     ' education_ Graduate',\n",
    "     ' no_of_dependents_4',\n",
    "     ' term_times_income',\n",
    "     ' no_of_dependents_5',\n",
    "     ' lux_times_res',\n",
    "     ' loan_amount',\n",
    "     ' loan_term',\n",
    "     ' no_of_dependents_1',\n",
    "     ' self_employed_ Yes',\n",
    "     ' self_employed_ No',\n",
    "     ' loan_coll_ratio',\n",
    "     ' loan_income_ratio',\n",
    "     ' commercial_assets_value',\n",
    "     ' bank_asset_value']\n",
    "\n",
    "\n",
    "\n",
    "hyperparameters = {\n",
    "    'max_depth': 26,\n",
    "    'random_state': 42,\n",
    "    'min_samples_split': 7,\n",
    "    'min_samples_leaf': 5,\n",
    "    'bootstrap': True,\n",
    "    'warm_start': False,\n",
    "    'min_weight_fraction_leaf': 0.02223794874814192,\n",
    "    'n_estimators': 220,\n",
    "    'criterion': 'entropy'\n",
    "}\n",
    "\n",
    "model = RandomForestClassifier(**hyperparameters)\n",
    "model.fit(x_train[features], y_train)\n",
    "y_pred = model.predict(x_test[features])\n",
    "f1 = f1_score(y_test, y_pred)\n",
    "val_acc, holdout_f1, holdout_acc = get_results(holdout, model, features, y_test, y_pred)\n",
    "\n",
    "\n",
    "print('------------------------------------ Without Cibil Score ------------------------------------')\n",
    "print(f'val f1: {f1}')\n",
    "print(f'holdout f1: {holdout_f1}')\n",
    "print(f'val acc: {val_acc}')\n",
    "print(f'holdout acc: {holdout_acc}')\n",
    "\n",
    "x_train, x_test, y_train, y_test, holdout = get_preprocessed_df(with_cibil=True)\n",
    "features.append(' cibil_score')\n",
    "model = RandomForestClassifier(**hyperparameters)\n",
    "model.fit(x_train[features], y_train)\n",
    "y_pred = model.predict(x_test[features])\n",
    "f1 = f1_score(y_test, y_pred)\n",
    "val_acc, holdout_f1, holdout_acc = get_results(holdout, model, features, y_test, y_pred)\n",
    "\n",
    "print('------------------------------------ With Cibil Score ------------------------------------')\n",
    "print(f'holdout f1: {holdout_f1}')\n",
    "print(f'holdout acc: {holdout_acc}')"
   ]
  },
  {
   "cell_type": "markdown",
   "metadata": {},
   "source": [
    "# KNeighbors Classifier"
   ]
  },
  {
   "cell_type": "code",
   "execution_count": 50,
   "metadata": {},
   "outputs": [
    {
     "name": "stdout",
     "output_type": "stream",
     "text": [
      "------------------------------------ Without Cibil Score ------------------------------------\n",
      "val f1: 0.7636092468307233\n",
      "holdout f1: 0.7473841554559043\n",
      "val acc: 0.6288056206088993\n",
      "holdout acc: 0.6042154566744731\n",
      "------------------------------------ With Cibil Score ------------------------------------\n",
      "holdout f1: 0.7485029940119761\n",
      "holdout acc: 0.6065573770491803\n"
     ]
    }
   ],
   "source": [
    "x_train, x_test, y_train, y_test, holdout = get_preprocessed_df()\n",
    "\n",
    "number_of_features = 9\n",
    "features = [' no_of_dependents_2',\n",
    "     ' education_ Not Graduate',\n",
    "     ' no_of_dependents_4',\n",
    "     ' luxury_assets_value',\n",
    "     ' no_of_dependents_5',\n",
    "     ' loan_coll_ratio',\n",
    "     ' loan_income_ratio',\n",
    "     ' commercial_assets_value',\n",
    "     ' bank_asset_value']\n",
    "\n",
    "\n",
    "\n",
    "hyperparameters = {\n",
    "    'weights': 'uniform',\n",
    "    'n_neighbors': 31,\n",
    "    'p': 2,\n",
    "    'algorithm': 'auto'\n",
    "}\n",
    "\n",
    "model = KNeighborsClassifier(**hyperparameters)\n",
    "model.fit(x_train[features], y_train)\n",
    "y_pred = model.predict(x_test[features])\n",
    "f1 = f1_score(y_test, y_pred)\n",
    "val_acc, holdout_f1, holdout_acc = get_results(holdout, model, features, y_test, y_pred)\n",
    "\n",
    "\n",
    "print('------------------------------------ Without Cibil Score ------------------------------------')\n",
    "print(f'val f1: {f1}')\n",
    "print(f'holdout f1: {holdout_f1}')\n",
    "print(f'val acc: {val_acc}')\n",
    "print(f'holdout acc: {holdout_acc}')\n",
    "\n",
    "x_train, x_test, y_train, y_test, holdout = get_preprocessed_df(with_cibil=True)\n",
    "features.append(' cibil_score')\n",
    "model = KNeighborsClassifier(**hyperparameters)\n",
    "model.fit(x_train[features], y_train)\n",
    "y_pred = model.predict(x_test[features])\n",
    "f1 = f1_score(y_test, y_pred)\n",
    "val_acc, holdout_f1, holdout_acc = get_results(holdout, model, features, y_test, y_pred)\n",
    "\n",
    "print('------------------------------------ With Cibil Score ------------------------------------')\n",
    "print(f'holdout f1: {holdout_f1}')\n",
    "print(f'holdout acc: {holdout_acc}')"
   ]
  },
  {
   "cell_type": "markdown",
   "metadata": {},
   "source": [
    "# Model Outcomes Using GridSearch "
   ]
  },
  {
   "cell_type": "markdown",
   "metadata": {},
   "source": [
    "## Decision Tree Classifier"
   ]
  },
  {
   "cell_type": "code",
   "execution_count": 51,
   "metadata": {},
   "outputs": [
    {
     "name": "stdout",
     "output_type": "stream",
     "text": [
      "val f1: 0.7712230215827338\n",
      "holdout f1: 0.76410998552822\n"
     ]
    }
   ],
   "source": [
    "x_train, x_test, y_train, y_test, holdout = get_preprocessed_df()\n",
    "\n",
    "hyperparameters = {'criterion': 'entropy', \n",
    "    'max_depth': 4, \n",
    "    'max_leaf_nodes': 37, \n",
    "    'min_impurity_decrease': 0.006, \n",
    "    'min_samples_leaf': 2, \n",
    "    'min_samples_split': 8, \n",
    "    'min_weight_fraction_leaf': 0}\n",
    "\n",
    "model = DecisionTreeClassifier(**hyperparameters)\n",
    "\n",
    "model.fit(x_train, y_train)\n",
    "y_pred = model.predict(x_test)\n",
    "f1 = f1_score(y_test, y_pred)\n",
    "holdout_true = holdout[' loan_status']\n",
    "holdout.drop(columns=[' loan_status'], inplace=True)\n",
    "holdout_pred = model.predict(holdout)\n",
    "holdout_f1 = f1_score(holdout_true, holdout_pred)\n",
    "\n",
    "print(f'val f1: {f1}')\n",
    "print(f'holdout f1: {holdout_f1}')"
   ]
  },
  {
   "cell_type": "markdown",
   "metadata": {},
   "source": [
    "## XGradient Boosting Classifier"
   ]
  },
  {
   "cell_type": "code",
   "execution_count": 52,
   "metadata": {},
   "outputs": [
    {
     "name": "stdout",
     "output_type": "stream",
     "text": [
      "val f1: 0.7712230215827338\n",
      "holdout f1: 0.76410998552822\n"
     ]
    },
    {
     "data": {
      "text/plain": [
       "<sklearn.metrics._plot.confusion_matrix.ConfusionMatrixDisplay at 0x13024af4070>"
      ]
     },
     "execution_count": 52,
     "metadata": {},
     "output_type": "execute_result"
    },
    {
     "data": {
      "image/png": "[encoded data removed]",
      "text/plain": [
       "<Figure size 640x480 with 2 Axes>"
      ]
     },
     "metadata": {},
     "output_type": "display_data"
    }
   ],
   "source": [
    "x_train, x_test, y_train, y_test, holdout = get_preprocessed_df()\n",
    "\n",
    "parameters = {'learning_rate': 0.001, \n",
    "    'max_depth': 4, \n",
    "    'min_child_weight': 3, \n",
    "    'min_split_loss': 6, \n",
    "    'reg_alpha': 2, \n",
    "    'reg_lambda': 3, \n",
    "    'random_state': 42,\n",
    "    'subsample': 0.9}\n",
    "\n",
    "xgb = XGBClassifier(**parameters)\n",
    "\n",
    "model.fit(x_train, y_train)\n",
    "y_pred = model.predict(x_test)\n",
    "f1 = f1_score(y_test, y_pred)\n",
    "holdout_true = holdout[' loan_status']\n",
    "holdout.drop(columns=[' loan_status'], inplace=True)\n",
    "holdout_pred = model.predict(holdout)\n",
    "holdout_f1 = f1_score(holdout_true, holdout_pred)\n",
    "\n",
    "print(f'val f1: {f1}')\n",
    "print(f'holdout f1: {holdout_f1}')"
   ]
  },
  {
   "cell_type": "markdown",
   "metadata": {},
   "source": [
    "## Gaussian NB"
   ]
  },
  {
   "cell_type": "code",
   "execution_count": 53,
   "metadata": {},
   "outputs": [
    {
     "name": "stdout",
     "output_type": "stream",
     "text": [
      "val f1: 0.7712230215827338\n",
      "holdout f1: 0.76410998552822\n"
     ]
    }
   ],
   "source": [
    "x_train, x_test, y_train, y_test, holdout = get_preprocessed_df()\n",
    "\n",
    "parameters = {'var_smoothing': 1.0}\n",
    "\n",
    "model = GaussianNB(**parameters)\n",
    "\n",
    "model.fit(x_train, y_train)\n",
    "y_pred = model.predict(x_test)\n",
    "f1 = f1_score(y_test, y_pred)\n",
    "holdout_true = holdout[' loan_status']\n",
    "holdout.drop(columns=[' loan_status'], inplace=True)\n",
    "holdout_pred = model.predict(holdout)\n",
    "holdout_f1 = f1_score(holdout_true, holdout_pred)\n",
    "\n",
    "print(f'val f1: {f1}')\n",
    "print(f'holdout f1: {holdout_f1}')"
   ]
  },
  {
   "cell_type": "markdown",
   "metadata": {},
   "source": [
    "## Random Forest"
   ]
  },
  {
   "cell_type": "code",
   "execution_count": 54,
   "metadata": {},
   "outputs": [
    {
     "name": "stdout",
     "output_type": "stream",
     "text": [
      "val f1: 0.7712230215827338\n",
      "holdout f1: 0.76410998552822\n"
     ]
    }
   ],
   "source": [
    "x_train, x_test, y_train, y_test, holdout = get_preprocessed_df()\n",
    "\n",
    "hyperparameters = {'bootstrap': False, \n",
    "    'criterion': 'log_loss', \n",
    "    'max_depth': 20, \n",
    "    'min_samples_leaf': 2, \n",
    "    'min_samples_split': 4, \n",
    "    'min_weight_fraction_leaf': 0.05, \n",
    "    'n_estimators': 250, \n",
    "    'warm_start': False}\n",
    "\n",
    "model = RandomForestClassifier(**hyperparameters)\n",
    "\n",
    "model.fit(x_train, y_train)\n",
    "y_pred = model.predict(x_test)\n",
    "f1 = f1_score(y_test, y_pred)\n",
    "holdout_true = holdout[' loan_status']\n",
    "holdout.drop(columns=[' loan_status'], inplace=True)\n",
    "holdout_pred = model.predict(holdout)\n",
    "holdout_f1 = f1_score(holdout_true, holdout_pred)\n",
    "\n",
    "print(f'val f1: {f1}')\n",
    "print(f'holdout f1: {holdout_f1}')\n",
    "\n",
    "\n"
   ]
  },
  {
   "cell_type": "markdown",
   "metadata": {},
   "source": [
    "## KNeighbors"
   ]
  },
  {
   "cell_type": "code",
   "execution_count": 55,
   "metadata": {},
   "outputs": [
    {
     "name": "stdout",
     "output_type": "stream",
     "text": [
      "val f1: 0.7484939759036143\n",
      "holdout f1: 0.7386018237082066\n"
     ]
    }
   ],
   "source": [
    "x_train, x_test, y_train, y_test, holdout = get_preprocessed_df()\n",
    "\n",
    "parameters = {'algorithm': 'auto', \n",
    "    'n_neighbors': 31, \n",
    "    'p': 2, \n",
    "    'weights': 'uniform'}\n",
    "\n",
    "model = KNeighborsClassifier(**parameters)\n",
    "\n",
    "model.fit(x_train, y_train)\n",
    "y_pred = model.predict(x_test)\n",
    "f1 = f1_score(y_test, y_pred)\n",
    "holdout_true = holdout[' loan_status']\n",
    "holdout.drop(columns=[' loan_status'], inplace=True)\n",
    "holdout_pred = model.predict(holdout)\n",
    "holdout_f1 = f1_score(holdout_true, holdout_pred)\n",
    "\n",
    "print(f'val f1: {f1}')\n",
    "print(f'holdout f1: {holdout_f1}')"
   ]
  }
 ],
 "metadata": {
  "kernelspec": {
   "display_name": "Python 3",
   "language": "python",
   "name": "python3"
  },
  "language_info": {
   "codemirror_mode": {
    "name": "ipython",
    "version": 3
   },
   "file_extension": ".py",
   "mimetype": "text/x-python",
   "name": "python",
   "nbconvert_exporter": "python",
   "pygments_lexer": "ipython3",
   "version": "3.10.8"
  },
  "orig_nbformat": 4
 },
 "nbformat": 4,
 "nbformat_minor": 2
}
