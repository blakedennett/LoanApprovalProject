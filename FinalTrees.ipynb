{
 "cells": [
  {
   "cell_type": "markdown",
   "metadata": {},
   "source": [
    "# Final Decision Tree Models"
   ]
  },
  {
   "cell_type": "code",
   "execution_count": 12,
   "metadata": {},
   "outputs": [],
   "source": [
    "from preprocessing import get_preprocessed_df\n",
    "from sklearn.tree import DecisionTreeClassifier\n",
    "from sklearn.metrics import accuracy_score, confusion_matrix, classification_report, f1_score\n",
    "from xgboost import XGBClassifier\n",
    "import multiprocessing as mp\n",
    "from sklearn.naive_bayes import GaussianNB\n",
    "from sklearn.ensemble import RandomForestClassifier\n",
    "from sklearn.neighbors import KNeighborsClassifier\n",
    "from sklearn.metrics import confusion_matrix, ConfusionMatrixDisplay"
   ]
  },
  {
   "cell_type": "code",
   "execution_count": 13,
   "metadata": {},
   "outputs": [],
   "source": [
    "def get_results(holdout, model, chosen_features, y_test, y_pred):\n",
    "    holdout_true = holdout[' loan_status']\n",
    "    # holdout.drop(columns=[' loan_status'], inplace=True)\n",
    "    holdout_pred = model.predict(holdout[chosen_features])\n",
    "    val_acc = accuracy_score(y_test, y_pred)\n",
    "    holdout_f1 = f1_score(holdout_true, holdout_pred)\n",
    "    holdout_acc = accuracy_score(holdout_true, holdout_pred)\n",
    "    return val_acc, holdout_f1, holdout_acc\n",
    "\n"
   ]
  },
  {
   "cell_type": "markdown",
   "metadata": {},
   "source": [
    "# Vanilla Tree"
   ]
  },
  {
   "cell_type": "code",
   "execution_count": 14,
   "metadata": {},
   "outputs": [
    {
     "name": "stdout",
     "output_type": "stream",
     "text": [
      "------------------------------------ Without Cibil Score ------------------------------------\n",
      "F1: 0.7667870036101083\n",
      "Accuracy: 0.6217798594847775\n",
      "Holdout F1: 0.76410998552822\n",
      "Holdout Accuracy: 0.6182669789227166\n",
      "------------------------------------ With Cibil Score ------------------------------------\n",
      "holdout f1: 0.76410998552822\n",
      "holdout acc: 0.6182669789227166\n"
     ]
    }
   ],
   "source": [
    "def vanilla_tree():\n",
    "    x_train, x_test, y_train, y_test, holdout = get_preprocessed_df()\n",
    "    model = DecisionTreeClassifier(random_state=42)\n",
    "    model.fit(x_train, y_train)\n",
    "    y_pred = model.predict(x_test)\n",
    "    holdout_true = holdout[' loan_status']\n",
    "    holdout.drop(columns=[' loan_status'], inplace=True)\n",
    "    holdout_pred = model.predict(holdout)\n",
    "    \n",
    "    print('------------------------------------ Without Cibil Score ------------------------------------')\n",
    "\n",
    "    print(\"F1:\", f1_score(y_test, y_pred))\n",
    "    print(\"Accuracy:\", accuracy_score(y_test, y_pred))\n",
    "    print(\"Holdout F1:\", f1_score(holdout_true, holdout_pred))\n",
    "    print(\"Holdout Accuracy:\", accuracy_score(holdout_true, holdout_pred))\n",
    "\n",
    "    x_train, x_test, y_train, y_test, holdout = get_preprocessed_df(with_cibil=True)\n",
    "    model = DecisionTreeClassifier(random_state=42)\n",
    "    model.fit(x_train, y_train)\n",
    "    y_pred = model.predict(x_test)\n",
    "    holdout_true = holdout[' loan_status']\n",
    "    holdout.drop(columns=[' loan_status'], inplace=True)\n",
    "    holdout_pred = model.predict(holdout)\n",
    "\n",
    "    print('------------------------------------ With Cibil Score ------------------------------------')\n",
    "    print(f'holdout f1: {f1_score(holdout_true, holdout_pred)}')\n",
    "    print(f'holdout acc: {accuracy_score(holdout_true, holdout_pred)}')\n",
    "\n",
    "\n",
    "vanilla_tree()"
   ]
  },
  {
   "cell_type": "markdown",
   "metadata": {},
   "source": [
    "# Decision Tree Classifier"
   ]
  },
  {
   "cell_type": "code",
   "execution_count": 15,
   "metadata": {},
   "outputs": [
    {
     "name": "stdout",
     "output_type": "stream",
     "text": [
      "------------------------------------ Without Cibil Score ------------------------------------\n",
      "val f1: 0.7667870036101083\n",
      "holdout f1: 0.76410998552822\n",
      "val acc: 0.6217798594847775\n",
      "holdout acc: 0.6182669789227166\n",
      "------------------------------------ With Cibil Score ------------------------------------\n",
      "holdout f1: 0.76410998552822\n",
      "holdout acc: 0.6182669789227166\n"
     ]
    }
   ],
   "source": [
    "x_train, x_test, y_train, y_test, holdout = get_preprocessed_df()\n",
    "\n",
    "features = [' col_times_term',\n",
    "     ' loan_term',\n",
    "     ' lux_times_res',\n",
    "     ' self_employed_ No',\n",
    "     ' no_of_dependents',\n",
    "     ' income_annum',\n",
    "     ' loan_amount',\n",
    "     ' self_employed_ Yes',\n",
    "     ' education_ Graduate',\n",
    "     ' term_times_income',\n",
    "     ' residential_assets_value',\n",
    "     ' loan_coll_ratio',\n",
    "     ' loan_income_ratio',\n",
    "     ' commercial_assets_value',\n",
    "     ' bank_asset_value']\n",
    "number_of_features = len(features)\n",
    "\n",
    "\n",
    "\n",
    "hyperparameters = {\n",
    "    'max_depth': 27,\n",
    "    'min_samples_split': 13,\n",
    "    'min_samples_leaf': 5,\n",
    "    'max_features': None,\n",
    "    'criterion': 'log_loss',\n",
    "    'random_state': 42,\n",
    "    'class_weight': None,\n",
    "    'splitter': 'best',\n",
    "    'max_leaf_nodes': 52,\n",
    "    'min_impurity_decrease': 0.0015640478078397374,\n",
    "    'min_weight_fraction_leaf': 0.001673957360422289,\n",
    "}\n",
    "\n",
    "model = DecisionTreeClassifier(**hyperparameters)\n",
    "model.fit(x_train[features], y_train)\n",
    "y_pred = model.predict(x_test[features])\n",
    "f1 = f1_score(y_test, y_pred)\n",
    "val_acc, holdout_f1, holdout_acc = get_results(holdout, model, features, y_test, y_pred)\n",
    "\n",
    "\n",
    "print('------------------------------------ Without Cibil Score ------------------------------------')\n",
    "print(f'val f1: {f1}')\n",
    "print(f'holdout f1: {holdout_f1}')\n",
    "print(f'val acc: {val_acc}')\n",
    "print(f'holdout acc: {holdout_acc}')\n",
    "\n",
    "x_train, x_test, y_train, y_test, holdout = get_preprocessed_df(with_cibil=True)\n",
    "features.append(' cibil_score')\n",
    "model = DecisionTreeClassifier(**hyperparameters)\n",
    "model.fit(x_train[features], y_train)\n",
    "y_pred = model.predict(x_test[features])\n",
    "f1 = f1_score(y_test, y_pred)\n",
    "val_acc, holdout_f1, holdout_acc = get_results(holdout, model, features, y_test, y_pred)\n",
    "\n",
    "print('------------------------------------ With Cibil Score ------------------------------------')\n",
    "print(f'holdout f1: {holdout_f1}')\n",
    "print(f'holdout acc: {holdout_acc}')"
   ]
  },
  {
   "cell_type": "markdown",
   "metadata": {},
   "source": [
    "# eXtreme Gradient Boosting Classifier"
   ]
  },
  {
   "cell_type": "code",
   "execution_count": 16,
   "metadata": {},
   "outputs": [
    {
     "name": "stdout",
     "output_type": "stream",
     "text": [
      "------------------------------------ Without Cibil Score ------------------------------------\n",
      "val f1: 0.7667870036101083\n",
      "holdout f1: 0.76410998552822\n",
      "val acc: 0.6217798594847775\n",
      "holdout acc: 0.6182669789227166\n",
      "------------------------------------ With Cibil Score ------------------------------------\n",
      "holdout f1: 0.76410998552822\n",
      "holdout acc: 0.6182669789227166\n"
     ]
    }
   ],
   "source": [
    "x_train, x_test, y_train, y_test, holdout = get_preprocessed_df()\n",
    "\n",
    "features = [' no_of_dependents',\n",
    "     ' loan_coll_ratio',\n",
    "     ' loan_income_ratio',\n",
    "     ' commercial_assets_value',\n",
    "     ' bank_asset_value']\n",
    "number_of_features = len(features)\n",
    "\n",
    "\n",
    "\n",
    "hyperparameters = {\n",
    "    'max_depth': 4,\n",
    "    'random_state': 42,\n",
    "    'min_split_loss': 3,\n",
    "    'min_child_weight': 14,\n",
    "    'subsample': 0.868207131636942,\n",
    "    'reg_lambda': 3,\n",
    "    'reg_alpha': 2,\n",
    "    'learning_rate': 0.04797473982907923\n",
    "}\n",
    "\n",
    "model = XGBClassifier(**hyperparameters)\n",
    "model.fit(x_train[features], y_train)\n",
    "y_pred = model.predict(x_test[features])\n",
    "f1 = f1_score(y_test, y_pred)\n",
    "val_acc, holdout_f1, holdout_acc = get_results(holdout, model, features, y_test, y_pred)\n",
    "\n",
    "\n",
    "print('------------------------------------ Without Cibil Score ------------------------------------')\n",
    "print(f'val f1: {f1}')\n",
    "print(f'holdout f1: {holdout_f1}')\n",
    "print(f'val acc: {val_acc}')\n",
    "print(f'holdout acc: {holdout_acc}')\n",
    "\n",
    "x_train, x_test, y_train, y_test, holdout = get_preprocessed_df(with_cibil=True)\n",
    "features.append(' cibil_score')\n",
    "model = XGBClassifier(**hyperparameters)\n",
    "model.fit(x_train[features], y_train)\n",
    "y_pred = model.predict(x_test[features])\n",
    "f1 = f1_score(y_test, y_pred)\n",
    "val_acc, holdout_f1, holdout_acc = get_results(holdout, model, features, y_test, y_pred)\n",
    "\n",
    "print('------------------------------------ With Cibil Score ------------------------------------')\n",
    "print(f'holdout f1: {holdout_f1}')\n",
    "print(f'holdout acc: {holdout_acc}')"
   ]
  },
  {
   "cell_type": "markdown",
   "metadata": {},
   "source": [
    "# Gaussian Naive Bayes"
   ]
  },
  {
   "cell_type": "code",
   "execution_count": 17,
   "metadata": {},
   "outputs": [
    {
     "name": "stdout",
     "output_type": "stream",
     "text": [
      "------------------------------------ Without Cibil Score ------------------------------------\n",
      "val f1: 0.7667870036101083\n",
      "holdout f1: 0.76410998552822\n",
      "val acc: 0.6217798594847775\n",
      "holdout acc: 0.6182669789227166\n",
      "------------------------------------ With Cibil Score ------------------------------------\n",
      "holdout f1: 0.76410998552822\n",
      "holdout acc: 0.6182669789227166\n"
     ]
    }
   ],
   "source": [
    "x_train, x_test, y_train, y_test, holdout = get_preprocessed_df()\n",
    "\n",
    "features = [' no_of_dependents',\n",
    "     ' loan_amount',\n",
    "     ' self_employed_ No',\n",
    "     ' income_annum',\n",
    "     ' self_employed_ Yes',\n",
    "     ' residential_assets_value',\n",
    "     ' term_times_income',\n",
    "     ' education_ Not Graduate',\n",
    "     ' education_ Graduate',\n",
    "     ' loan_coll_ratio',\n",
    "     ' loan_income_ratio',\n",
    "     ' commercial_assets_value',\n",
    "     ' bank_asset_value']\n",
    "number_of_features = len(features)\n",
    "\n",
    "model = GaussianNB()\n",
    "model.fit(x_train[features], y_train)\n",
    "y_pred = model.predict(x_test[features])\n",
    "f1 = f1_score(y_test, y_pred)\n",
    "val_acc, holdout_f1, holdout_acc = get_results(holdout, model, features, y_test, y_pred)\n",
    "\n",
    "\n",
    "print('------------------------------------ Without Cibil Score ------------------------------------')\n",
    "print(f'val f1: {f1}')\n",
    "print(f'holdout f1: {holdout_f1}')\n",
    "print(f'val acc: {val_acc}')\n",
    "print(f'holdout acc: {holdout_acc}')\n",
    "\n",
    "x_train, x_test, y_train, y_test, holdout = get_preprocessed_df(with_cibil=True)\n",
    "features.append(' cibil_score')\n",
    "model = GaussianNB()\n",
    "model.fit(x_train[features], y_train)\n",
    "y_pred = model.predict(x_test[features])\n",
    "f1 = f1_score(y_test, y_pred)\n",
    "val_acc, holdout_f1, holdout_acc = get_results(holdout, model, features, y_test, y_pred)\n",
    "\n",
    "print('------------------------------------ With Cibil Score ------------------------------------')\n",
    "print(f'holdout f1: {holdout_f1}')\n",
    "print(f'holdout acc: {holdout_acc}')"
   ]
  },
  {
   "cell_type": "markdown",
   "metadata": {},
   "source": [
    "# Random Forest Classifier"
   ]
  },
  {
   "cell_type": "code",
   "execution_count": 18,
   "metadata": {},
   "outputs": [
    {
     "name": "stdout",
     "output_type": "stream",
     "text": [
      "------------------------------------ Without Cibil Score ------------------------------------\n",
      "val f1: 0.7667870036101083\n",
      "holdout f1: 0.76410998552822\n",
      "val acc: 0.6217798594847775\n",
      "holdout acc: 0.6182669789227166\n",
      "------------------------------------ With Cibil Score ------------------------------------\n",
      "holdout f1: 0.76410998552822\n",
      "holdout acc: 0.6182669789227166\n"
     ]
    }
   ],
   "source": [
    "x_train, x_test, y_train, y_test, holdout = get_preprocessed_df()\n",
    "\n",
    "features = [' total_collateral',\n",
    "     ' col_times_term',\n",
    "     ' education_ Not Graduate',\n",
    "     ' no_of_dependents',\n",
    "     ' education_ Graduate',\n",
    "     ' term_times_income',\n",
    "     ' lux_times_res',\n",
    "     ' loan_amount',\n",
    "     ' loan_term',\n",
    "     ' self_employed_ Yes',\n",
    "     ' self_employed_ No',\n",
    "     ' loan_coll_ratio',\n",
    "     ' loan_income_ratio',\n",
    "     ' commercial_assets_value',\n",
    "     ' bank_asset_value']\n",
    "number_of_features = len(features)\n",
    "\n",
    "\n",
    "hyperparameters = {\n",
    "    'max_depth': 26,\n",
    "    'random_state': 42,\n",
    "    'min_samples_split': 7,\n",
    "    'min_samples_leaf': 5,\n",
    "    'bootstrap': True,\n",
    "    'warm_start': False,\n",
    "    'min_weight_fraction_leaf': 0.02223794874814192,\n",
    "    'n_estimators': 220,\n",
    "    'criterion': 'entropy'\n",
    "}\n",
    "\n",
    "model = RandomForestClassifier(**hyperparameters)\n",
    "model.fit(x_train[features], y_train)\n",
    "y_pred = model.predict(x_test[features])\n",
    "f1 = f1_score(y_test, y_pred)\n",
    "val_acc, holdout_f1, holdout_acc = get_results(holdout, model, features, y_test, y_pred)\n",
    "\n",
    "\n",
    "print('------------------------------------ Without Cibil Score ------------------------------------')\n",
    "print(f'val f1: {f1}')\n",
    "print(f'holdout f1: {holdout_f1}')\n",
    "print(f'val acc: {val_acc}')\n",
    "print(f'holdout acc: {holdout_acc}')\n",
    "\n",
    "x_train, x_test, y_train, y_test, holdout = get_preprocessed_df(with_cibil=True)\n",
    "features.append(' cibil_score')\n",
    "model = RandomForestClassifier(**hyperparameters)\n",
    "model.fit(x_train[features], y_train)\n",
    "y_pred = model.predict(x_test[features])\n",
    "f1 = f1_score(y_test, y_pred)\n",
    "val_acc, holdout_f1, holdout_acc = get_results(holdout, model, features, y_test, y_pred)\n",
    "\n",
    "print('------------------------------------ With Cibil Score ------------------------------------')\n",
    "print(f'holdout f1: {holdout_f1}')\n",
    "print(f'holdout acc: {holdout_acc}')"
   ]
  },
  {
   "cell_type": "markdown",
   "metadata": {},
   "source": [
    "# KNeighbors Classifier"
   ]
  },
  {
   "cell_type": "code",
   "execution_count": 19,
   "metadata": {},
   "outputs": [
    {
     "name": "stdout",
     "output_type": "stream",
     "text": [
      "------------------------------------ Without Cibil Score ------------------------------------\n",
      "val f1: 0.7667870036101083\n",
      "holdout f1: 0.76410998552822\n",
      "val acc: 0.6217798594847775\n",
      "holdout acc: 0.6182669789227166\n",
      "------------------------------------ With Cibil Score ------------------------------------\n",
      "holdout f1: 0.76410998552822\n",
      "holdout acc: 0.6182669789227166\n"
     ]
    }
   ],
   "source": [
    "x_train, x_test, y_train, y_test, holdout = get_preprocessed_df()\n",
    "\n",
    "features = [' no_of_dependents',\n",
    "     ' education_ Not Graduate',\n",
    "     ' luxury_assets_value',\n",
    "     ' loan_coll_ratio',\n",
    "     ' loan_income_ratio',\n",
    "     ' commercial_assets_value',\n",
    "     ' bank_asset_value']\n",
    "number_of_features = len(features)\n",
    "\n",
    "\n",
    "hyperparameters = {\n",
    "    'weights': 'uniform',\n",
    "    'n_neighbors': 31,\n",
    "    'p': 2,\n",
    "    'algorithm': 'auto'\n",
    "}\n",
    "\n",
    "model = KNeighborsClassifier(**hyperparameters)\n",
    "model.fit(x_train[features], y_train)\n",
    "y_pred = model.predict(x_test[features])\n",
    "f1 = f1_score(y_test, y_pred)\n",
    "val_acc, holdout_f1, holdout_acc = get_results(holdout, model, features, y_test, y_pred)\n",
    "\n",
    "\n",
    "print('------------------------------------ Without Cibil Score ------------------------------------')\n",
    "print(f'val f1: {f1}')\n",
    "print(f'holdout f1: {holdout_f1}')\n",
    "print(f'val acc: {val_acc}')\n",
    "print(f'holdout acc: {holdout_acc}')\n",
    "\n",
    "x_train, x_test, y_train, y_test, holdout = get_preprocessed_df(with_cibil=True)\n",
    "features.append(' cibil_score')\n",
    "model = KNeighborsClassifier(**hyperparameters)\n",
    "model.fit(x_train[features], y_train)\n",
    "y_pred = model.predict(x_test[features])\n",
    "f1 = f1_score(y_test, y_pred)\n",
    "val_acc, holdout_f1, holdout_acc = get_results(holdout, model, features, y_test, y_pred)\n",
    "\n",
    "print('------------------------------------ With Cibil Score ------------------------------------')\n",
    "print(f'holdout f1: {holdout_f1}')\n",
    "print(f'holdout acc: {holdout_acc}')"
   ]
  },
  {
   "cell_type": "markdown",
   "metadata": {},
   "source": [
    "# Model Outcomes Using GridSearch "
   ]
  },
  {
   "cell_type": "markdown",
   "metadata": {},
   "source": [
    "## Decision Tree Classifier"
   ]
  },
  {
   "cell_type": "code",
   "execution_count": 20,
   "metadata": {},
   "outputs": [
    {
     "name": "stdout",
     "output_type": "stream",
     "text": [
      "val f1: 0.7667870036101083\n",
      "holdout f1: 0.76410998552822\n"
     ]
    }
   ],
   "source": [
    "x_train, x_test, y_train, y_test, holdout = get_preprocessed_df()\n",
    "\n",
    "hyperparameters = {'criterion': 'entropy', \n",
    "    'max_depth': 4, \n",
    "    'max_leaf_nodes': 37, \n",
    "    'min_impurity_decrease': 0.006, \n",
    "    'min_samples_leaf': 2, \n",
    "    'min_samples_split': 8, \n",
    "    'min_weight_fraction_leaf': 0}\n",
    "\n",
    "model = DecisionTreeClassifier(**hyperparameters)\n",
    "\n",
    "model.fit(x_train, y_train)\n",
    "y_pred = model.predict(x_test)\n",
    "f1 = f1_score(y_test, y_pred)\n",
    "holdout_true = holdout[' loan_status']\n",
    "holdout.drop(columns=[' loan_status'], inplace=True)\n",
    "holdout_pred = model.predict(holdout)\n",
    "holdout_f1 = f1_score(holdout_true, holdout_pred)\n",
    "\n",
    "print(f'val f1: {f1}')\n",
    "print(f'holdout f1: {holdout_f1}')"
   ]
  },
  {
   "cell_type": "markdown",
   "metadata": {},
   "source": [
    "## XGradient Boosting Classifier"
   ]
  },
  {
   "cell_type": "code",
   "execution_count": 21,
   "metadata": {},
   "outputs": [
    {
     "name": "stdout",
     "output_type": "stream",
     "text": [
      "val f1: 0.7667870036101083\n",
      "holdout f1: 0.76410998552822\n"
     ]
    }
   ],
   "source": [
    "x_train, x_test, y_train, y_test, holdout = get_preprocessed_df()\n",
    "\n",
    "parameters = {'learning_rate': 0.001, \n",
    "    'max_depth': 4, \n",
    "    'min_child_weight': 3, \n",
    "    'min_split_loss': 6, \n",
    "    'reg_alpha': 2, \n",
    "    'reg_lambda': 3, \n",
    "    'random_state': 42,\n",
    "    'subsample': 0.9}\n",
    "\n",
    "xgb = XGBClassifier(**parameters)\n",
    "\n",
    "model.fit(x_train, y_train)\n",
    "y_pred = model.predict(x_test)\n",
    "f1 = f1_score(y_test, y_pred)\n",
    "holdout_true = holdout[' loan_status']\n",
    "holdout.drop(columns=[' loan_status'], inplace=True)\n",
    "holdout_pred = model.predict(holdout)\n",
    "holdout_f1 = f1_score(holdout_true, holdout_pred)\n",
    "\n",
    "print(f'val f1: {f1}')\n",
    "print(f'holdout f1: {holdout_f1}')"
   ]
  },
  {
   "cell_type": "markdown",
   "metadata": {},
   "source": [
    "## Gaussian NB"
   ]
  },
  {
   "cell_type": "code",
   "execution_count": 22,
   "metadata": {},
   "outputs": [
    {
     "name": "stdout",
     "output_type": "stream",
     "text": [
      "val f1: 0.7667870036101083\n",
      "holdout f1: 0.76410998552822\n"
     ]
    }
   ],
   "source": [
    "x_train, x_test, y_train, y_test, holdout = get_preprocessed_df()\n",
    "\n",
    "parameters = {'var_smoothing': 1.0}\n",
    "\n",
    "model = GaussianNB(**parameters)\n",
    "\n",
    "model.fit(x_train, y_train)\n",
    "y_pred = model.predict(x_test)\n",
    "f1 = f1_score(y_test, y_pred)\n",
    "holdout_true = holdout[' loan_status']\n",
    "holdout.drop(columns=[' loan_status'], inplace=True)\n",
    "holdout_pred = model.predict(holdout)\n",
    "holdout_f1 = f1_score(holdout_true, holdout_pred)\n",
    "\n",
    "print(f'val f1: {f1}')\n",
    "print(f'holdout f1: {holdout_f1}')"
   ]
  },
  {
   "cell_type": "markdown",
   "metadata": {},
   "source": [
    "## Random Forest"
   ]
  },
  {
   "cell_type": "code",
   "execution_count": 23,
   "metadata": {},
   "outputs": [
    {
     "name": "stdout",
     "output_type": "stream",
     "text": [
      "val f1: 0.7667870036101083\n",
      "holdout f1: 0.76410998552822\n"
     ]
    }
   ],
   "source": [
    "x_train, x_test, y_train, y_test, holdout = get_preprocessed_df()\n",
    "\n",
    "hyperparameters = {'bootstrap': False, \n",
    "    'criterion': 'log_loss', \n",
    "    'max_depth': 20, \n",
    "    'min_samples_leaf': 2, \n",
    "    'min_samples_split': 4, \n",
    "    'min_weight_fraction_leaf': 0.05, \n",
    "    'n_estimators': 250, \n",
    "    'warm_start': False}\n",
    "\n",
    "model = RandomForestClassifier(**hyperparameters)\n",
    "\n",
    "model.fit(x_train, y_train)\n",
    "y_pred = model.predict(x_test)\n",
    "f1 = f1_score(y_test, y_pred)\n",
    "holdout_true = holdout[' loan_status']\n",
    "holdout.drop(columns=[' loan_status'], inplace=True)\n",
    "holdout_pred = model.predict(holdout)\n",
    "holdout_f1 = f1_score(holdout_true, holdout_pred)\n",
    "\n",
    "print(f'val f1: {f1}')\n",
    "print(f'holdout f1: {holdout_f1}')\n",
    "\n",
    "\n"
   ]
  },
  {
   "cell_type": "markdown",
   "metadata": {},
   "source": [
    "## KNeighbors"
   ]
  },
  {
   "cell_type": "code",
   "execution_count": 24,
   "metadata": {},
   "outputs": [
    {
     "name": "stdout",
     "output_type": "stream",
     "text": [
      "val f1: 0.7667870036101083\n",
      "holdout f1: 0.76410998552822\n"
     ]
    }
   ],
   "source": [
    "x_train, x_test, y_train, y_test, holdout = get_preprocessed_df()\n",
    "\n",
    "parameters = {'algorithm': 'auto', \n",
    "    'n_neighbors': 31, \n",
    "    'p': 2, \n",
    "    'weights': 'uniform'}\n",
    "\n",
    "model = KNeighborsClassifier(**parameters)\n",
    "\n",
    "model.fit(x_train, y_train)\n",
    "y_pred = model.predict(x_test)\n",
    "f1 = f1_score(y_test, y_pred)\n",
    "holdout_true = holdout[' loan_status']\n",
    "holdout.drop(columns=[' loan_status'], inplace=True)\n",
    "holdout_pred = model.predict(holdout)\n",
    "holdout_f1 = f1_score(holdout_true, holdout_pred)\n",
    "\n",
    "print(f'val f1: {f1}')\n",
    "print(f'holdout f1: {holdout_f1}')"
   ]
  }
 ],
 "metadata": {
  "kernelspec": {
   "display_name": "Python 3",
   "language": "python",
   "name": "python3"
  },
  "language_info": {
   "codemirror_mode": {
    "name": "ipython",
    "version": 3
   },
   "file_extension": ".py",
   "mimetype": "text/x-python",
   "name": "python",
   "nbconvert_exporter": "python",
   "pygments_lexer": "ipython3",
   "version": "3.10.8"
  },
  "orig_nbformat": 4
 },
 "nbformat": 4,
 "nbformat_minor": 2
}
