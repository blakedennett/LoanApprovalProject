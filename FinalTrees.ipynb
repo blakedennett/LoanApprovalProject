{
 "cells": [
  {
   "cell_type": "markdown",
   "metadata": {},
   "source": [
    "# Final Decision Tree Models"
   ]
  },
  {
   "cell_type": "code",
   "execution_count": 11,
   "metadata": {},
   "outputs": [],
   "source": [
    "from preprocessing import get_preprocessed_df\n",
    "from sklearn.tree import DecisionTreeClassifier\n",
    "from sklearn.metrics import accuracy_score, confusion_matrix, classification_report, f1_score\n",
    "from xgboost import XGBClassifier\n",
    "import multiprocessing as mp\n",
    "from sklearn.naive_bayes import GaussianNB\n",
    "from sklearn.ensemble import RandomForestClassifier\n",
    "from sklearn.neighbors import KNeighborsClassifier"
   ]
  },
  {
   "cell_type": "code",
   "execution_count": 30,
   "metadata": {},
   "outputs": [],
   "source": [
    "def get_results(holdout, model, chosen_features, y_test, y_pred):\n",
    "    holdout_true = holdout[' loan_status']\n",
    "    # holdout.drop(columns=[' loan_status'], inplace=True)\n",
    "    holdout_pred = model.predict(holdout[chosen_features])\n",
    "    val_acc = accuracy_score(y_test, y_pred)\n",
    "    holdout_f1 = f1_score(holdout_true, holdout_pred)\n",
    "    holdout_acc = accuracy_score(holdout_true, holdout_pred)\n",
    "    return val_acc, holdout_f1, holdout_acc\n",
    "\n"
   ]
  },
  {
   "cell_type": "markdown",
   "metadata": {},
   "source": [
    "# Gaussian Naive Bayes"
   ]
  },
  {
   "cell_type": "code",
   "execution_count": 36,
   "metadata": {},
   "outputs": [
    {
     "name": "stdout",
     "output_type": "stream",
     "text": [
      "------------------------------------ Without Cibil Score ------------------------------------\n",
      "val f1: 0.7722342733188721\n",
      "holdout f1: 0.760522496371553\n",
      "val acc: 0.6311475409836066\n",
      "holdout acc: 0.6135831381733021\n",
      "------------------------------------ With Cibil Score ------------------------------------\n",
      "holdout f1: 0.7616279069767442\n",
      "holdout acc: 0.6159250585480094\n"
     ]
    }
   ],
   "source": [
    "x_train, x_test, y_train, y_test, holdout = get_preprocessed_df()\n",
    "\n",
    "number_of_features = 17\n",
    "features = [' no_of_dependents_2',\n",
    "     ' loan_amount',\n",
    "     ' self_employed_ No',\n",
    "     ' income_annum',\n",
    "     ' self_employed_ Yes',\n",
    "     ' no_of_dependents_5',\n",
    "     ' no_of_dependents_3',\n",
    "     ' residential_assets_value',\n",
    "     ' term_times_income',\n",
    "     ' no_of_dependents_1',\n",
    "     ' no_of_dependents_4',\n",
    "     ' education_ Not Graduate',\n",
    "     ' education_ Graduate',\n",
    "     ' loan_coll_ratio',\n",
    "     ' loan_income_ratio',\n",
    "     ' commercial_assets_value',\n",
    "     ' bank_asset_value']\n",
    "\n",
    "model = GaussianNB()\n",
    "model.fit(x_train[features], y_train)\n",
    "y_pred = model.predict(x_test[features])\n",
    "f1 = f1_score(y_test, y_pred)\n",
    "val_acc, holdout_f1, holdout_acc = get_results(holdout, model, features, y_test, y_pred)\n",
    "\n",
    "\n",
    "print('------------------------------------ Without Cibil Score ------------------------------------')\n",
    "print(f'val f1: {f1}')\n",
    "print(f'holdout f1: {holdout_f1}')\n",
    "print(f'val acc: {val_acc}')\n",
    "print(f'holdout acc: {holdout_acc}')\n",
    "\n",
    "x_train, x_test, y_train, y_test, holdout = get_preprocessed_df(with_cibil=True)\n",
    "features.append(' cibil_score')\n",
    "model = GaussianNB()\n",
    "model.fit(x_train[features], y_train)\n",
    "y_pred = model.predict(x_test[features])\n",
    "f1 = f1_score(y_test, y_pred)\n",
    "val_acc, holdout_f1, holdout_acc = get_results(holdout, model, features, y_test, y_pred)\n",
    "\n",
    "print('------------------------------------ With Cibil Score ------------------------------------')\n",
    "print(f'holdout f1: {holdout_f1}')\n",
    "print(f'holdout acc: {holdout_acc}')"
   ]
  },
  {
   "cell_type": "markdown",
   "metadata": {},
   "source": [
    "# Random Forest Classifier"
   ]
  },
  {
   "cell_type": "code",
   "execution_count": 33,
   "metadata": {},
   "outputs": [
    {
     "name": "stdout",
     "output_type": "stream",
     "text": [
      "------------------------------------ Without Cibil Score ------------------------------------\n",
      "val f1: 0.7760758570386579\n",
      "holdout f1: 0.759124087591241\n",
      "val acc: 0.6405152224824356\n",
      "holdout acc: 0.6135831381733021\n",
      "------------------------------------ With Cibil Score ------------------------------------\n",
      "holdout f1: 0.998109640831758\n",
      "holdout acc: 0.9976580796252927\n"
     ]
    }
   ],
   "source": [
    "x_train, x_test, y_train, y_test, holdout = get_preprocessed_df()\n",
    "\n",
    "number_of_features = 18\n",
    "features = [' total_collateral',\n",
    "     ' col_times_term',\n",
    "     ' education_ Not Graduate',\n",
    "     ' no_of_dependents_0',\n",
    "     ' education_ Graduate',\n",
    "     ' no_of_dependents_4',\n",
    "     ' term_times_income',\n",
    "     ' no_of_dependents_5',\n",
    "     ' lux_times_res',\n",
    "     ' loan_amount',\n",
    "     ' loan_term',\n",
    "     ' no_of_dependents_1',\n",
    "     ' self_employed_ Yes',\n",
    "     ' self_employed_ No',\n",
    "     ' loan_coll_ratio',\n",
    "     ' loan_income_ratio',\n",
    "     ' commercial_assets_value',\n",
    "     ' bank_asset_value']\n",
    "\n",
    "\n",
    "\n",
    "hyperparameters = {\n",
    "    'max_depth': 26,\n",
    "    'random_state': 42,\n",
    "    'min_samples_split': 7,\n",
    "    'min_samples_leaf': 5,\n",
    "    'bootstrap': True,\n",
    "    'warm_start': False,\n",
    "    'min_weight_fraction_leaf': 0.02223794874814192,\n",
    "    'n_estimators': 220,\n",
    "    'criterion': 'entropy'\n",
    "}\n",
    "\n",
    "model = RandomForestClassifier(**hyperparameters)\n",
    "model.fit(x_train[features], y_train)\n",
    "y_pred = model.predict(x_test[features])\n",
    "f1 = f1_score(y_test, y_pred)\n",
    "val_acc, holdout_f1, holdout_acc = get_results(holdout, model, features, y_test, y_pred)\n",
    "\n",
    "\n",
    "print('------------------------------------ Without Cibil Score ------------------------------------')\n",
    "print(f'val f1: {f1}')\n",
    "print(f'holdout f1: {holdout_f1}')\n",
    "print(f'val acc: {val_acc}')\n",
    "print(f'holdout acc: {holdout_acc}')\n",
    "\n",
    "x_train, x_test, y_train, y_test, holdout = get_preprocessed_df(with_cibil=True)\n",
    "features.append(' cibil_score')\n",
    "model = RandomForestClassifier(**hyperparameters)\n",
    "model.fit(x_train[features], y_train)\n",
    "y_pred = model.predict(x_test[features])\n",
    "f1 = f1_score(y_test, y_pred)\n",
    "val_acc, holdout_f1, holdout_acc = get_results(holdout, model, features, y_test, y_pred)\n",
    "\n",
    "print('------------------------------------ With Cibil Score ------------------------------------')\n",
    "print(f'holdout f1: {holdout_f1}')\n",
    "print(f'holdout acc: {holdout_acc}')"
   ]
  },
  {
   "cell_type": "markdown",
   "metadata": {},
   "source": [
    "# KNeighbors Classifier"
   ]
  },
  {
   "cell_type": "code",
   "execution_count": 35,
   "metadata": {},
   "outputs": [
    {
     "name": "stdout",
     "output_type": "stream",
     "text": [
      "------------------------------------ Without Cibil Score ------------------------------------\n",
      "val f1: 0.7636092468307233\n",
      "holdout f1: 0.7473841554559043\n",
      "val acc: 0.6288056206088993\n",
      "holdout acc: 0.6042154566744731\n",
      "------------------------------------ With Cibil Score ------------------------------------\n",
      "holdout f1: 0.7485029940119761\n",
      "holdout acc: 0.6065573770491803\n"
     ]
    }
   ],
   "source": [
    "x_train, x_test, y_train, y_test, holdout = get_preprocessed_df()\n",
    "\n",
    "number_of_features = 9\n",
    "features = [' no_of_dependents_2',\n",
    "     ' education_ Not Graduate',\n",
    "     ' no_of_dependents_4',\n",
    "     ' luxury_assets_value',\n",
    "     ' no_of_dependents_5',\n",
    "     ' loan_coll_ratio',\n",
    "     ' loan_income_ratio',\n",
    "     ' commercial_assets_value',\n",
    "     ' bank_asset_value']\n",
    "\n",
    "\n",
    "\n",
    "hyperparameters = {\n",
    "    'weights': 'uniform',\n",
    "    'n_neighbors': 31,\n",
    "    'p': 2,\n",
    "    'algorithm': 'auto'\n",
    "}\n",
    "\n",
    "model = KNeighborsClassifier(**hyperparameters)\n",
    "model.fit(x_train[features], y_train)\n",
    "y_pred = model.predict(x_test[features])\n",
    "f1 = f1_score(y_test, y_pred)\n",
    "val_acc, holdout_f1, holdout_acc = get_results(holdout, model, features, y_test, y_pred)\n",
    "\n",
    "\n",
    "print('------------------------------------ Without Cibil Score ------------------------------------')\n",
    "print(f'val f1: {f1}')\n",
    "print(f'holdout f1: {holdout_f1}')\n",
    "print(f'val acc: {val_acc}')\n",
    "print(f'holdout acc: {holdout_acc}')\n",
    "\n",
    "x_train, x_test, y_train, y_test, holdout = get_preprocessed_df(with_cibil=True)\n",
    "features.append(' cibil_score')\n",
    "model = KNeighborsClassifier(**hyperparameters)\n",
    "model.fit(x_train[features], y_train)\n",
    "y_pred = model.predict(x_test[features])\n",
    "f1 = f1_score(y_test, y_pred)\n",
    "val_acc, holdout_f1, holdout_acc = get_results(holdout, model, features, y_test, y_pred)\n",
    "\n",
    "print('------------------------------------ With Cibil Score ------------------------------------')\n",
    "print(f'holdout f1: {holdout_f1}')\n",
    "print(f'holdout acc: {holdout_acc}')"
   ]
  },
  {
   "cell_type": "markdown",
   "metadata": {},
   "source": [
    "# GridSearch "
   ]
  },
  {
   "cell_type": "markdown",
   "metadata": {},
   "source": [
    "## Decision Tree Classifier"
   ]
  },
  {
   "cell_type": "code",
   "execution_count": null,
   "metadata": {},
   "outputs": [
    {
     "name": "stdout",
     "output_type": "stream",
     "text": [
      "------------------------------------ Without Cibil Score ------------------------------------\n",
      "val f1: 0.7712230215827338\n",
      "holdout f1: 0.76410998552822\n"
     ]
    }
   ],
   "source": [
    "x_train, x_test, y_train, y_test, holdout = get_preprocessed_df()\n",
    "\n",
    "hyperparameters = {'criterion': 'entropy', \n",
    "    'max_depth': 4, \n",
    "    'max_leaf_nodes': 37, \n",
    "    'min_impurity_decrease': 0.006, \n",
    "    'min_samples_leaf': 2, \n",
    "    'min_samples_split': 8, \n",
    "    'min_weight_fraction_leaf': 0}\n",
    "\n",
    "model = DecisionTreeClassifier(**hyperparameters)\n",
    "\n",
    "model.fit(x_train, y_train)\n",
    "y_pred = model.predict(x_test)\n",
    "f1 = f1_score(y_test, y_pred)\n",
    "holdout_true = holdout[' loan_status']\n",
    "holdout.drop(columns=[' loan_status'], inplace=True)\n",
    "holdout_pred = model.predict(holdout)\n",
    "holdout_f1 = f1_score(holdout_true, holdout_pred)\n",
    "\n",
    "print(f'val f1: {f1}')\n",
    "print(f'holdout f1: {holdout_f1}')"
   ]
  },
  {
   "cell_type": "markdown",
   "metadata": {},
   "source": [
    "## XGradient Boosting Classifier"
   ]
  },
  {
   "cell_type": "code",
   "execution_count": null,
   "metadata": {},
   "outputs": [
    {
     "name": "stdout",
     "output_type": "stream",
     "text": [
      "val f1: 0.7750362844702468\n",
      "holdout f1: 0.7616279069767442\n"
     ]
    }
   ],
   "source": [
    "x_train, x_test, y_train, y_test, holdout = get_preprocessed_df()\n",
    "\n",
    "parameters = {'learning_rate': 0.001, \n",
    "    'max_depth': 4, \n",
    "    'min_child_weight': 3, \n",
    "    'min_split_loss': 6, \n",
    "    'reg_alpha': 2, \n",
    "    'reg_lambda': 3, \n",
    "    'random_state': 42,\n",
    "    'subsample': 0.9}\n",
    "\n",
    "xgb = XGBClassifier(**parameters)\n",
    "\n",
    "model.fit(x_train, y_train)\n",
    "y_pred = model.predict(x_test)\n",
    "f1 = f1_score(y_test, y_pred)\n",
    "holdout_true = holdout[' loan_status']\n",
    "holdout.drop(columns=[' loan_status'], inplace=True)\n",
    "holdout_pred = model.predict(holdout)\n",
    "holdout_f1 = f1_score(holdout_true, holdout_pred)\n",
    "\n",
    "print(f'val f1: {f1}')\n",
    "print(f'holdout f1: {holdout_f1}')"
   ]
  },
  {
   "cell_type": "markdown",
   "metadata": {},
   "source": [
    "## Gaussian NB"
   ]
  },
  {
   "cell_type": "code",
   "execution_count": null,
   "metadata": {},
   "outputs": [
    {
     "name": "stdout",
     "output_type": "stream",
     "text": [
      "val f1: 0.7712230215827338\n",
      "holdout f1: 0.76410998552822\n"
     ]
    }
   ],
   "source": [
    "x_train, x_test, y_train, y_test, holdout = get_preprocessed_df()\n",
    "\n",
    "parameters = {'var_smoothing': 1.0}\n",
    "\n",
    "model = GaussianNB(parameters)\n",
    "\n",
    "model.fit(x_train, y_train)\n",
    "y_pred = model.predict(x_test)\n",
    "f1 = f1_score(y_test, y_pred)\n",
    "holdout_true = holdout[' loan_status']\n",
    "holdout.drop(columns=[' loan_status'], inplace=True)\n",
    "holdout_pred = model.predict(holdout)\n",
    "holdout_f1 = f1_score(holdout_true, holdout_pred)\n",
    "\n",
    "print(f'val f1: {f1}')\n",
    "print(f'holdout f1: {holdout_f1}')"
   ]
  },
  {
   "cell_type": "markdown",
   "metadata": {},
   "source": [
    "## KNeighbors"
   ]
  },
  {
   "cell_type": "code",
   "execution_count": null,
   "metadata": {},
   "outputs": [
    {
     "name": "stdout",
     "output_type": "stream",
     "text": [
      "val f1: 0.7484939759036143\n",
      "holdout f1: 0.7386018237082066\n"
     ]
    }
   ],
   "source": [
    "x_train, x_test, y_train, y_test, holdout = get_preprocessed_df()\n",
    "\n",
    "parameters = {'algorithm': 'auto', \n",
    "    'n_neighbors': 31, \n",
    "    'p': 2, \n",
    "    'weights': 'uniform'}\n",
    "\n",
    "model = KNeighborsClassifier(**parameters)\n",
    "\n",
    "model.fit(x_train, y_train)\n",
    "y_pred = model.predict(x_test)\n",
    "f1 = f1_score(y_test, y_pred)\n",
    "holdout_true = holdout[' loan_status']\n",
    "holdout.drop(columns=[' loan_status'], inplace=True)\n",
    "holdout_pred = model.predict(holdout)\n",
    "holdout_f1 = f1_score(holdout_true, holdout_pred)\n",
    "\n",
    "print(f'val f1: {f1}')\n",
    "print(f'holdout f1: {holdout_f1}')"
   ]
  }
 ],
 "metadata": {
  "kernelspec": {
   "display_name": "Python 3",
   "language": "python",
   "name": "python3"
  },
  "language_info": {
   "codemirror_mode": {
    "name": "ipython",
    "version": 3
   },
   "file_extension": ".py",
   "mimetype": "text/x-python",
   "name": "python",
   "nbconvert_exporter": "python",
   "pygments_lexer": "ipython3",
   "version": "3.10.8"
  },
  "orig_nbformat": 4
 },
 "nbformat": 4,
 "nbformat_minor": 2
}
