{
 "cells": [
  {
   "cell_type": "markdown",
   "metadata": {},
   "source": [
    "# Final Decision Tree Models"
   ]
  },
  {
   "cell_type": "code",
   "execution_count": null,
   "metadata": {},
   "outputs": [],
   "source": [
    "from preprocessing import get_preprocessed_df\n",
    "from sklearn.tree import DecisionTreeClassifier\n",
    "from sklearn.metrics import accuracy_score, confusion_matrix, classification_report, f1_score\n",
    "import random\n",
    "import winsound\n",
    "import time\n",
    "from xgboost import XGBClassifier\n",
    "import multiprocessing as mp\n",
    "from sklearn.naive_bayes import GaussianNB\n",
    "from sklearn.ensemble import RandomForestClassifier\n",
    "from sklearn.neighbors import KNeighborsClassifier"
   ]
  },
  {
   "cell_type": "code",
   "execution_count": 3,
   "metadata": {},
   "outputs": [],
   "source": [
    "def get_results(holdout, model, chosen_features, y_test, y_pred):\n",
    "    holdout_true = holdout[' loan_status']\n",
    "    holdout.drop(columns=[' loan_status'], inplace=True)\n",
    "    holdout_pred = model.predict(holdout[chosen_features])\n",
    "    val_acc = accuracy_score(y_test, y_pred)\n",
    "    holdout_f1 = f1_score(holdout_true, holdout_pred)\n",
    "    holdout_acc = accuracy_score(holdout_true, holdout_pred)\n",
    "    return val_acc, holdout_f1, holdout_acc\n",
    "\n"
   ]
  },
  {
   "cell_type": "markdown",
   "metadata": {},
   "source": [
    "# Random Forest Classifier"
   ]
  },
  {
   "cell_type": "code",
   "execution_count": 18,
   "metadata": {},
   "outputs": [
    {
     "name": "stdout",
     "output_type": "stream",
     "text": [
      "------------------------------------ Without Cibil Score ------------------------------------\n",
      "val f1: 0.7759245830311821\n",
      "holdout f1: 0.7652173913043477\n",
      "val acc: 0.6381733021077284\n",
      "holdout acc: 0.6206088992974239\n"
     ]
    },
    {
     "ename": "TypeError",
     "evalue": "get_preprocessed_df() got an unexpected keyword argument 'with_cibil'",
     "output_type": "error",
     "traceback": [
      "\u001b[1;31m---------------------------------------------------------------------------\u001b[0m",
      "\u001b[1;31mTypeError\u001b[0m                                 Traceback (most recent call last)",
      "\u001b[1;32mc:\\Users\\Blake Dennett\\Downloads\\Summer2023\\FinalTrees.ipynb Cell 5\u001b[0m in \u001b[0;36m4\n\u001b[0;32m     <a href='vscode-notebook-cell:/c%3A/Users/Blake%20Dennett/Downloads/Summer2023/FinalTrees.ipynb#W3sZmlsZQ%3D%3D?line=45'>46</a>\u001b[0m \u001b[39mprint\u001b[39m(\u001b[39mf\u001b[39m\u001b[39m'\u001b[39m\u001b[39mval acc: \u001b[39m\u001b[39m{\u001b[39;00mval_acc\u001b[39m}\u001b[39;00m\u001b[39m'\u001b[39m)\n\u001b[0;32m     <a href='vscode-notebook-cell:/c%3A/Users/Blake%20Dennett/Downloads/Summer2023/FinalTrees.ipynb#W3sZmlsZQ%3D%3D?line=46'>47</a>\u001b[0m \u001b[39mprint\u001b[39m(\u001b[39mf\u001b[39m\u001b[39m'\u001b[39m\u001b[39mholdout acc: \u001b[39m\u001b[39m{\u001b[39;00mholdout_acc\u001b[39m}\u001b[39;00m\u001b[39m'\u001b[39m)\n\u001b[1;32m---> <a href='vscode-notebook-cell:/c%3A/Users/Blake%20Dennett/Downloads/Summer2023/FinalTrees.ipynb#W3sZmlsZQ%3D%3D?line=48'>49</a>\u001b[0m x_train, x_test, y_train, y_test, holdout \u001b[39m=\u001b[39m get_preprocessed_df(with_cibil\u001b[39m=\u001b[39;49m\u001b[39mTrue\u001b[39;49;00m)\n\u001b[0;32m     <a href='vscode-notebook-cell:/c%3A/Users/Blake%20Dennett/Downloads/Summer2023/FinalTrees.ipynb#W3sZmlsZQ%3D%3D?line=49'>50</a>\u001b[0m model \u001b[39m=\u001b[39m RandomForestClassifier(\u001b[39m*\u001b[39m\u001b[39m*\u001b[39mhyperparameters)\n\u001b[0;32m     <a href='vscode-notebook-cell:/c%3A/Users/Blake%20Dennett/Downloads/Summer2023/FinalTrees.ipynb#W3sZmlsZQ%3D%3D?line=50'>51</a>\u001b[0m model\u001b[39m.\u001b[39mfit(x_train[features], y_train)\n",
      "\u001b[1;31mTypeError\u001b[0m: get_preprocessed_df() got an unexpected keyword argument 'with_cibil'"
     ]
    }
   ],
   "source": [
    "x_train, x_test, y_train, y_test, holdout = get_preprocessed_df()\n",
    "\n",
    "number_of_features = 9\n",
    "features = [' no_of_dependents_5',\n",
    "     ' lux_times_res',\n",
    "     ' education_ Not Graduate',\n",
    "     ' income_annum',\n",
    "     ' self_employed_ No',\n",
    "     ' loan_term',\n",
    "     ' luxury_assets_value',\n",
    "     ' total_collateral',\n",
    "     ' col_times_term',\n",
    "     ' self_employed_ Yes',\n",
    "     ' loan_amount',\n",
    "     ' no_of_dependents_0',\n",
    "     ' no_of_dependents_1',\n",
    "     ' loan_coll_ratio',\n",
    "     ' loan_income_ratio',\n",
    "     ' commercial_assets_value',\n",
    "     ' bank_asset_value']\n",
    "\n",
    "\n",
    "\n",
    "hyperparameters = {\n",
    "    \"max_depth\": 26,\n",
    "    \"random_state\": 42,\n",
    "    \"min_samples_split\": 4,\n",
    "    \"min_samples_leaf\": 4,\n",
    "    \"bootstrap\": True,\n",
    "    \"warm_start\": False,\n",
    "    \"min_weight_fraction_leaf\": 0.02936400746539998,\n",
    "    \"n_estimators\": 284,\n",
    "    'criterion': 'log_loss',\n",
    "    'n_jobs': -1\n",
    "}\n",
    "\n",
    "model = RandomForestClassifier(**hyperparameters)\n",
    "model.fit(x_train[features], y_train)\n",
    "y_pred = model.predict(x_test[features])\n",
    "f1 = f1_score(y_test, y_pred)\n",
    "val_acc, holdout_f1, holdout_acc = get_results(holdout, model, features, y_test, y_pred)\n",
    "\n",
    "print('------------------------------------ Without Cibil Score ------------------------------------')\n",
    "print(f'val f1: {f1}')\n",
    "print(f'holdout f1: {holdout_f1}')\n",
    "print(f'val acc: {val_acc}')\n",
    "print(f'holdout acc: {holdout_acc}')\n",
    "\n",
    "x_train, x_test, y_train, y_test, holdout = get_preprocessed_df(with_cibil=True)\n",
    "model = RandomForestClassifier(**hyperparameters)\n",
    "model.fit(x_train[features], y_train)\n",
    "y_pred = model.predict(x_test[features])\n",
    "f1 = f1_score(y_test, y_pred)\n",
    "val_acc, holdout_f1, holdout_acc = get_results(holdout, model, features, y_test, y_pred)\n",
    "\n",
    "print('------------------------------------ With Cibil Score ------------------------------------')\n",
    "print(f'holdout f1: {holdout_f1}')\n",
    "print(f'holdout acc: {holdout_acc}')"
   ]
  }
 ],
 "metadata": {
  "kernelspec": {
   "display_name": "Python 3",
   "language": "python",
   "name": "python3"
  },
  "language_info": {
   "codemirror_mode": {
    "name": "ipython",
    "version": 3
   },
   "file_extension": ".py",
   "mimetype": "text/x-python",
   "name": "python",
   "nbconvert_exporter": "python",
   "pygments_lexer": "ipython3",
   "version": "3.10.8"
  },
  "orig_nbformat": 4
 },
 "nbformat": 4,
 "nbformat_minor": 2
}
