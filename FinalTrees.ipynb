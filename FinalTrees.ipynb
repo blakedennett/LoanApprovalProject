{
 "cells": [
  {
   "cell_type": "markdown",
   "metadata": {},
   "source": [
    "# Final Decision Tree Models"
   ]
  },
  {
   "cell_type": "code",
   "execution_count": null,
   "metadata": {},
   "outputs": [],
   "source": [
    "from preprocessing import get_preprocessed_df\n",
    "from sklearn.tree import DecisionTreeClassifier\n",
    "from sklearn.metrics import accuracy_score, confusion_matrix, classification_report, f1_score\n",
    "import random\n",
    "import winsound\n",
    "import time\n",
    "from xgboost import XGBClassifier\n",
    "import multiprocessing as mp\n",
    "from sklearn.naive_bayes import GaussianNB\n",
    "from sklearn.ensemble import RandomForestClassifier\n",
    "from sklearn.neighbors import KNeighborsClassifier"
   ]
  },
  {
   "cell_type": "code",
   "execution_count": 2,
   "metadata": {},
   "outputs": [],
   "source": [
    "def get_results(holdout, model, chosen_features, y_test, y_pred):\n",
    "    holdout_true = holdout[' loan_status']\n",
    "    holdout.drop(columns=[' loan_status'], inplace=True)\n",
    "    holdout_pred = model.predict(holdout[chosen_features])\n",
    "    val_acc = accuracy_score(y_test, y_pred)\n",
    "    holdout_f1 = f1_score(holdout_true, holdout_pred)\n",
    "    holdout_acc = accuracy_score(holdout_true, holdout_pred)\n",
    "    return val_acc, holdout_f1, holdout_acc\n",
    "\n"
   ]
  },
  {
   "cell_type": "markdown",
   "metadata": {},
   "source": [
    "# Random Forest Classifier"
   ]
  },
  {
   "cell_type": "code",
   "execution_count": 6,
   "metadata": {},
   "outputs": [
    {
     "name": "stdout",
     "output_type": "stream",
     "text": [
      "------------------------------------ Without Cibil Score ------------------------------------\n",
      "val f1: 0.7759245830311821\n",
      "holdout f1: 0.7652173913043477\n",
      "val acc: 0.6381733021077284\n",
      "holdout acc: 0.6206088992974239\n",
      "------------------------------------ With Cibil Score ------------------------------------\n",
      "holdout f1: 0.9962121212121212\n",
      "holdout acc: 0.9953161592505855\n"
     ]
    }
   ],
   "source": [
    "x_train, x_test, y_train, y_test, holdout = get_preprocessed_df()\n",
    "\n",
    "number_of_features = 9\n",
    "features = [' no_of_dependents_5',\n",
    "     ' lux_times_res',\n",
    "     ' education_ Not Graduate',\n",
    "     ' income_annum',\n",
    "     ' self_employed_ No',\n",
    "     ' loan_term',\n",
    "     ' luxury_assets_value',\n",
    "     ' total_collateral',\n",
    "     ' col_times_term',\n",
    "     ' self_employed_ Yes',\n",
    "     ' loan_amount',\n",
    "     ' no_of_dependents_0',\n",
    "     ' no_of_dependents_1',\n",
    "     ' loan_coll_ratio',\n",
    "     ' loan_income_ratio',\n",
    "     ' commercial_assets_value',\n",
    "     ' bank_asset_value']\n",
    "\n",
    "\n",
    "\n",
    "hyperparameters = {\n",
    "    \"max_depth\": 26,\n",
    "    \"random_state\": 42,\n",
    "    \"min_samples_split\": 4,\n",
    "    \"min_samples_leaf\": 4,\n",
    "    \"bootstrap\": True,\n",
    "    \"warm_start\": False,\n",
    "    \"min_weight_fraction_leaf\": 0.02936400746539998,\n",
    "    \"n_estimators\": 284,\n",
    "    'criterion': 'log_loss',\n",
    "    'n_jobs': -1\n",
    "}\n",
    "\n",
    "model = RandomForestClassifier(**hyperparameters)\n",
    "model.fit(x_train[features], y_train)\n",
    "y_pred = model.predict(x_test[features])\n",
    "f1 = f1_score(y_test, y_pred)\n",
    "val_acc, holdout_f1, holdout_acc = get_results(holdout, model, features, y_test, y_pred)\n",
    "\n",
    "print('------------------------------------ Without Cibil Score ------------------------------------')\n",
    "print(f'val f1: {f1}')\n",
    "print(f'holdout f1: {holdout_f1}')\n",
    "print(f'val acc: {val_acc}')\n",
    "print(f'holdout acc: {holdout_acc}')\n",
    "\n",
    "x_train, x_test, y_train, y_test, holdout = get_preprocessed_df(with_cibil=True)\n",
    "features.append(' cibil_score')\n",
    "model = RandomForestClassifier(**hyperparameters)\n",
    "model.fit(x_train[features], y_train)\n",
    "y_pred = model.predict(x_test[features])\n",
    "f1 = f1_score(y_test, y_pred)\n",
    "val_acc, holdout_f1, holdout_acc = get_results(holdout, model, features, y_test, y_pred)\n",
    "\n",
    "print('------------------------------------ With Cibil Score ------------------------------------')\n",
    "print(f'holdout f1: {holdout_f1}')\n",
    "print(f'holdout acc: {holdout_acc}')"
   ]
  }
 ],
 "metadata": {
  "kernelspec": {
   "display_name": "Python 3",
   "language": "python",
   "name": "python3"
  },
  "language_info": {
   "codemirror_mode": {
    "name": "ipython",
    "version": 3
   },
   "file_extension": ".py",
   "mimetype": "text/x-python",
   "name": "python",
   "nbconvert_exporter": "python",
   "pygments_lexer": "ipython3",
   "version": "3.10.8"
  },
  "orig_nbformat": 4
 },
 "nbformat": 4,
 "nbformat_minor": 2
}
