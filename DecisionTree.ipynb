{
 "cells": [
  {
   "cell_type": "code",
   "execution_count": 42,
   "metadata": {},
   "outputs": [],
   "source": [
    "from preprocessing import get_preprocessed_df\n",
    "from sklearn.tree import DecisionTreeClassifier\n",
    "from sklearn.metrics import accuracy_score, confusion_matrix, classification_report, f1_score\n",
    "import random\n",
    "import winsound"
   ]
  },
  {
   "cell_type": "code",
   "execution_count": 11,
   "metadata": {},
   "outputs": [],
   "source": [
    "x_train, x_test, y_train, y_test, holdout = get_preprocessed_df()\n",
    "# fulls = x_train, x_test, holdout"
   ]
  },
  {
   "cell_type": "markdown",
   "metadata": {},
   "source": [
    "# Vanilla Tree"
   ]
  },
  {
   "cell_type": "code",
   "execution_count": 8,
   "metadata": {},
   "outputs": [
    {
     "name": "stdout",
     "output_type": "stream",
     "text": [
      "F1: 0.6447985004686035\n",
      "Accuracy: 0.5562060889929742\n"
     ]
    }
   ],
   "source": [
    "model = DecisionTreeClassifier(random_state=42)\n",
    "model.fit(x_train, y_train)\n",
    "y_pred = model.predict(x_test)\n",
    "print(\"F1:\", f1_score(y_test, y_pred))\n",
    "print(\"Accuracy:\", accuracy_score(y_test, y_pred))"
   ]
  },
  {
   "cell_type": "markdown",
   "metadata": {},
   "source": [
    "# While Loop Selecting Best Model"
   ]
  },
  {
   "cell_type": "code",
   "execution_count": 35,
   "metadata": {},
   "outputs": [],
   "source": [
    "sure_features = [' loan_coll_ratio', ' loan_income_ratio', ' commercial_assets_value', ' bank_asset_value']\n",
    "best_so_far = 0.66"
   ]
  },
  {
   "cell_type": "code",
   "execution_count": 62,
   "metadata": {},
   "outputs": [
    {
     "name": "stdout",
     "output_type": "stream",
     "text": [
      " loan_amount\n",
      " no_of_dependents_2\n",
      " term_times_income\n",
      " income_annum\n",
      " luxury_assets_value\n",
      " no_of_dependents_3\n",
      " lux_times_res\n",
      " residential_assets_value\n",
      " no_of_dependents_4\n",
      " loan_term\n",
      " education_ Graduate\n",
      " total_collateral\n",
      " no_of_dependents_5\n",
      " loan_coll_ratio\n",
      " loan_income_ratio\n",
      " commercial_assets_value\n",
      " bank_asset_value\n"
     ]
    }
   ],
   "source": [
    "from sklearn.metrics import f1_score\n",
    "\n",
    "while True:\n",
    "\n",
    "    x_train, x_test, y_train, y_test, holdout = get_preprocessed_df()\n",
    "\n",
    "    unsure_df = holdout.drop(columns=sure_features)\n",
    "    unsure_df.drop(columns=[' loan_status'], inplace=True)\n",
    "    unsure_features = list(unsure_df.columns)\n",
    "\n",
    "    n_features = random.randint(6, 18)\n",
    "    chosen_features = random.shuffle(unsure_features)\n",
    "    chosen_features = list(unsure_features[0:n_features - 4] + sure_features)\n",
    "\n",
    "    for df in [x_train, x_test]:\n",
    "        df = df[chosen_features]\n",
    "\n",
    "    max_depth = random.randint(4, 32)\n",
    "    min_samples_split = random.randint(2, 15)\n",
    "    min_samples_leaf = random.randint(1, 15)\n",
    "    criterion = random.choice([\"gini\", \"entropy\", \"log_loss\"])\n",
    "    class_weight = random.choice([\"balanced\", None])\n",
    "    max_leaf_nodes = random.randint(20, 80)\n",
    "    min_impurity_decrease = random.uniform(0, 0.1)\n",
    "    min_impurity_split = random.uniform(0, 0.1)\n",
    "    min_weight_fraction_leaf = random.uniform(0, 0.1)\n",
    "\n",
    "\n",
    "    hyperparameters = {\n",
    "        \"max_depth\": max_depth,\n",
    "        \"min_samples_split\": min_samples_split,\n",
    "        \"min_samples_leaf\": min_samples_leaf,\n",
    "        \"max_features\": None,\n",
    "        \"criterion\": criterion,\n",
    "        \"random_state\": 42,\n",
    "        \"class_weight\": class_weight,\n",
    "        \"splitter\": \"best\",\n",
    "        \"max_leaf_nodes\": max_leaf_nodes,\n",
    "        \"min_impurity_decrease\": min_impurity_decrease,\n",
    "        \"min_weight_fraction_leaf\": min_weight_fraction_leaf,\n",
    "    }\n",
    "\n",
    "    model = DecisionTreeClassifier(**hyperparameters)\n",
    "    model.fit(x_train, y_train)\n",
    "    y_pred = model.predict(x_test)\n",
    "    f1 = f1_score(y_test, y_pred)\n",
    "    if f1 > best_so_far:\n",
    "        best_so_far = f1\n",
    "        holdout_true = holdout[' loan_status']\n",
    "        holdout.drop(columns=[' loan_status'], inplace=True)\n",
    "        holdout_pred = model.predict(holdout[chosen_features])\n",
    "\n",
    "        with open(r\"C:\\Users\\Blake Dennett\\Downloads\\Summer2023\\ml_results\\DecisionTree.txt\", \"a\") as f:\n",
    "            f.write(f\"Best F1 so far: {f1}\\n\")\n",
    "            f.write(f\"Accuracy = {accuracy_score(y_test, y_pred)}\")\n",
    "            f.write(f\"Holdout F1 Score: {f1_score(holdout_true, holdout_pred)}\\n\")\n",
    "            f.write(f\"Holdout Accuracy = {accuracy_score(holdout_true, holdout_pred)}\")\n",
    "            f.write(f\"Hyperparameters:\\n\")\n",
    "            for key, value in hyperparameters.items():\n",
    "                f.write(f\"    {key}: {value}\\n\")\n",
    "            f.write(f\"Chosen Features:\\n\")\n",
    "            for feature in chosen_features:\n",
    "                f.write(f\"    {feature}\\n\")\n",
    "            f.write(\"\\n\")\n",
    "\n",
    "            winsound.Beep(400, 600)\n"
   ]
  }
 ],
 "metadata": {
  "kernelspec": {
   "display_name": "Python 3",
   "language": "python",
   "name": "python3"
  },
  "language_info": {
   "codemirror_mode": {
    "name": "ipython",
    "version": 3
   },
   "file_extension": ".py",
   "mimetype": "text/x-python",
   "name": "python",
   "nbconvert_exporter": "python",
   "pygments_lexer": "ipython3",
   "version": "3.10.8"
  },
  "orig_nbformat": 4
 },
 "nbformat": 4,
 "nbformat_minor": 2
}
