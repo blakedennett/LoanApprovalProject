{
 "cells": [
  {
   "cell_type": "code",
   "execution_count": 28,
   "metadata": {},
   "outputs": [],
   "source": [
    "from preprocessing import get_preprocessed_df\n",
    "from sklearn.tree import DecisionTreeClassifier\n",
    "from sklearn.metrics import accuracy_score, confusion_matrix, classification_report, f1_score\n",
    "import random\n",
    "import winsound\n",
    "import time\n",
    "from xgboost import XGBClassifier\n",
    "import multiprocessing as mp"
   ]
  },
  {
   "cell_type": "code",
   "execution_count": 20,
   "metadata": {},
   "outputs": [],
   "source": [
    "x_train, x_test, y_train, y_test, holdout = get_preprocessed_df()\n",
    "# fulls = x_train, x_test, holdout"
   ]
  },
  {
   "cell_type": "markdown",
   "metadata": {},
   "source": [
    "# Vanilla Tree"
   ]
  },
  {
   "cell_type": "code",
   "execution_count": 21,
   "metadata": {},
   "outputs": [
    {
     "name": "stdout",
     "output_type": "stream",
     "text": [
      "F1: 0.6447985004686035\n",
      "Accuracy: 0.5562060889929742\n"
     ]
    }
   ],
   "source": [
    "model = DecisionTreeClassifier(random_state=42)\n",
    "model.fit(x_train, y_train)\n",
    "y_pred = model.predict(x_test)\n",
    "print(\"F1:\", f1_score(y_test, y_pred))\n",
    "print(\"Accuracy:\", accuracy_score(y_test, y_pred))"
   ]
  },
  {
   "cell_type": "markdown",
   "metadata": {},
   "source": [
    "# Decision Tree Classifier"
   ]
  },
  {
   "cell_type": "code",
   "execution_count": 22,
   "metadata": {},
   "outputs": [],
   "source": [
    "sure_features = [' loan_coll_ratio', ' loan_income_ratio', ' commercial_assets_value', ' bank_asset_value']\n",
    "best_so_far = 0.77178\n",
    "best_so_far = 0.64"
   ]
  },
  {
   "cell_type": "code",
   "execution_count": 30,
   "metadata": {},
   "outputs": [],
   "source": [
    "\n",
    "\n",
    "def decision_tree(best_so_far=0.64):\n",
    "\n",
    "    while True:\n",
    "\n",
    "        x_train, x_test, y_train, y_test, holdout = get_preprocessed_df()\n",
    "\n",
    "        unsure_df = holdout.drop(columns=sure_features)\n",
    "        if ' loan_status' in unsure_df.columns:\n",
    "            unsure_df.drop(columns=[' loan_status'], inplace=True)\n",
    "        unsure_features = list(unsure_df.columns)\n",
    "\n",
    "        n_features = random.randint(6, 18)       # 6 to 18 features\n",
    "        chosen_features = random.shuffle(unsure_features)\n",
    "        chosen_features = list(unsure_features[0:n_features - 4] + sure_features)\n",
    "\n",
    "        max_depth = random.randint(4, 32)                           # 4 to 32 levels\n",
    "        min_samples_split = random.randint(2, 15)                   # 2 to 15 samples\n",
    "        min_samples_leaf = random.randint(1, 15)                    # 1 to 15 samples\n",
    "        criterion = random.choice([\"gini\", \"entropy\", \"log_loss\"])  # gini, entropy, log_loss\n",
    "        class_weight = random.choice([\"balanced\", None])            # balanced, None\n",
    "        max_leaf_nodes = random.randint(20, 80)                     # 20 to 80 nodes\n",
    "        min_impurity_decrease = random.uniform(0, 0.1)              # 0 to 0.1\n",
    "        min_impurity_split = random.uniform(0, 0.1)                 # 0 to 0.1\n",
    "        min_weight_fraction_leaf = random.uniform(0, 0.1)           # 0 to 0.1\n",
    "\n",
    "\n",
    "        hyperparameters = {\n",
    "            \"max_depth\": max_depth,\n",
    "            \"min_samples_split\": min_samples_split,\n",
    "            \"min_samples_leaf\": min_samples_leaf,\n",
    "            \"max_features\": None,\n",
    "            \"criterion\": criterion,\n",
    "            \"random_state\": 42,\n",
    "            \"class_weight\": class_weight,\n",
    "            \"splitter\": \"best\",\n",
    "            \"max_leaf_nodes\": max_leaf_nodes,\n",
    "            \"min_impurity_decrease\": min_impurity_decrease,\n",
    "            \"min_weight_fraction_leaf\": min_weight_fraction_leaf,\n",
    "        }\n",
    "\n",
    "        model = DecisionTreeClassifier(**hyperparameters)\n",
    "        model.fit(x_train[chosen_features], y_train)\n",
    "        y_pred = model.predict(x_test[chosen_features])\n",
    "        f1 = f1_score(y_test, y_pred)\n",
    "        if f1 > best_so_far:\n",
    "            best_so_far = f1\n",
    "            holdout_true = holdout[' loan_status']\n",
    "            holdout.drop(columns=[' loan_status'], inplace=True)\n",
    "            holdout_pred = model.predict(holdout[chosen_features])\n",
    "\n",
    "            with open(r\"C:\\Users\\Blake Dennett\\Downloads\\Summer2023\\ml_results\\DecisionTree.txt\", \"a\") as f:\n",
    "                f.write(f\"Best F1 so far: {f1}\\n\")\n",
    "                f.write(f\"Accuracy = {accuracy_score(y_test, y_pred)}\\n\")\n",
    "                f.write(f\"Holdout F1 Score: {f1_score(holdout_true, holdout_pred)}\\n\")\n",
    "                f.write(f\"Holdout Accuracy = {accuracy_score(holdout_true, holdout_pred)}\\n\")\n",
    "                f.write(f\"Hyperparameters:\\n\")\n",
    "                for key, value in hyperparameters.items():\n",
    "                    f.write(f\"    {key}: {value}\\n\")\n",
    "                f.write(f\"Chosen Features:\\n\")\n",
    "                for feature in chosen_features:\n",
    "                    f.write(f\"    {feature}\\n\")\n",
    "                f.write(\"\\n\")\n",
    "\n",
    "            winsound.Beep(350, 600)\n"
   ]
  },
  {
   "cell_type": "markdown",
   "metadata": {},
   "source": [
    "# XGBoost (Extreme Gradient Boosting Classifier)"
   ]
  },
  {
   "cell_type": "code",
   "execution_count": 31,
   "metadata": {},
   "outputs": [],
   "source": [
    "best_so_far = 0.78\n",
    "\n",
    "def xgb(best_so_far=0.64):\n",
    "\n",
    "    while True:\n",
    "\n",
    "        x_train, x_test, y_train, y_test, holdout = get_preprocessed_df()\n",
    "\n",
    "        unsure_df = holdout.drop(columns=sure_features)\n",
    "        if ' loan_status' in unsure_df.columns:\n",
    "            unsure_df.drop(columns=[' loan_status'], inplace=True)\n",
    "        unsure_features = list(unsure_df.columns)\n",
    "\n",
    "        n_features = random.randint(6, 18)       # 6 to 18 features\n",
    "        chosen_features = random.shuffle(unsure_features)\n",
    "        chosen_features = list(unsure_features[0:n_features - 4] + sure_features)\n",
    "\n",
    "\n",
    "\n",
    "        max_depth = random.randint(4, 32)                           # 4 to 32 levels\n",
    "        learning_rate = random.uniform(0, 0.1)                      # 0 to 0.1\n",
    "        min_split_loss = random.randint(0, 20)                      # 0 to 20\n",
    "        min_child_weight = random.randint(0, 20)                    # 0 to 20\n",
    "        subsample = random.uniform(0.1, 1)                          # 0.1 to 1\n",
    "        reg_lambda = random.randint(1, 5)                           # 1 to 5\n",
    "        reg_alpha = random.randint(1, 5)                            # 1 to 5\n",
    "        \n",
    "\n",
    "        hyperparameters = {\n",
    "            \"max_depth\": max_depth,\n",
    "            \"random_state\": 42,\n",
    "            \"min_split_loss\": min_split_loss,\n",
    "            \"min_child_weight\": min_child_weight,\n",
    "            \"subsample\": subsample,\n",
    "            \"reg_lambda\": reg_lambda,\n",
    "            \"reg_alpha\": reg_alpha,\n",
    "            \"learning_rate\": learning_rate\n",
    "        }\n",
    "\n",
    "        model = XGBClassifier(**hyperparameters)\n",
    "        model.fit(x_train[chosen_features], y_train)\n",
    "        y_pred = model.predict(x_test[chosen_features])\n",
    "        f1 = f1_score(y_test, y_pred)\n",
    "        if f1 > best_so_far:\n",
    "            best_so_far = f1\n",
    "            holdout_true = holdout[' loan_status']\n",
    "            holdout.drop(columns=[' loan_status'], inplace=True)\n",
    "            holdout_pred = model.predict(holdout[chosen_features])\n",
    "\n",
    "            with open(r\"C:\\Users\\Blake Dennett\\Downloads\\Summer2023\\ml_results\\XGB.txt\", \"a\") as f:\n",
    "                f.write(f\"Best F1 so far: {f1}\\n\")\n",
    "                f.write(f\"Accuracy = {accuracy_score(y_test, y_pred)}\\n\")\n",
    "                f.write(f\"Holdout F1 Score: {f1_score(holdout_true, holdout_pred)}\\n\")\n",
    "                f.write(f\"Holdout Accuracy = {accuracy_score(holdout_true, holdout_pred)}\\n\")\n",
    "                f.write(f\"Hyperparameters:\\n\")\n",
    "                for key, value in hyperparameters.items():\n",
    "                    f.write(f\"    {key}: {value}\\n\")\n",
    "                f.write(f\"Chosen Features:\\n\")\n",
    "                for feature in chosen_features:\n",
    "                    f.write(f\"    {feature}\\n\")\n",
    "                f.write(\"\\n\")\n",
    "\n",
    "            winsound.Beep(800, 600)"
   ]
  },
  {
   "cell_type": "markdown",
   "metadata": {},
   "source": [
    "# Random Forest Classifier"
   ]
  },
  {
   "cell_type": "markdown",
   "metadata": {},
   "source": [
    "# Gaussian NB"
   ]
  },
  {
   "cell_type": "markdown",
   "metadata": {},
   "source": [
    "# Running each model type in parallel"
   ]
  },
  {
   "cell_type": "code",
   "execution_count": 34,
   "metadata": {},
   "outputs": [],
   "source": [
    "\n",
    "p1 = mp.Process(target=decision_tree, args=(0,))\n",
    "p2 = mp.Process(target=xgb, args=(0,))\n",
    "\n",
    "p1.start()\n",
    "p2.start()\n",
    "\n",
    "# p1.join()\n",
    "# p2.join()"
   ]
  }
 ],
 "metadata": {
  "kernelspec": {
   "display_name": "Python 3",
   "language": "python",
   "name": "python3"
  },
  "language_info": {
   "codemirror_mode": {
    "name": "ipython",
    "version": 3
   },
   "file_extension": ".py",
   "mimetype": "text/x-python",
   "name": "python",
   "nbconvert_exporter": "python",
   "pygments_lexer": "ipython3",
   "version": "3.10.8"
  },
  "orig_nbformat": 4
 },
 "nbformat": 4,
 "nbformat_minor": 2
}
